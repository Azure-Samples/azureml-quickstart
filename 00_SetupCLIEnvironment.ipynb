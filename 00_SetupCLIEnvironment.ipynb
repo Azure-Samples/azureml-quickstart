{
 "cells": [
  {
   "cell_type": "markdown",
   "metadata": {},
   "source": [
    "# CLI Environment Setup Tutorial\n",
    "\n",
    "## Step 1: Create Compute Instance\n",
    "\n",
    "* If you opened this notebook from Azure Machine Learning studio, you need a compute instance to run the code. If you don't have a compute instance, select **Create compute** on the toolbar to first create one.  You can use all the default settings.  \n",
    "\n",
    "    ![Create compute](./media/create-compute.png)\n",
    "\n",
    "* If you're seeing this notebook elsewhere, complete [Create resources you need to get started](https://docs.microsoft.com/azure/machine-learning/quickstart-create-resources) to create an Azure Machine Learning workspace and a compute instance.\n",
    "\n",
    "## Step 2: Set your kernel\n",
    "\n",
    "* If your compute instance is stopped, start it now.  \n",
    "        \n",
    "    ![Start compute](./media/start-compute.png)\n",
    "\n",
    "Use the dropdown to select this kernel.\n",
    "   \n",
    "![Set the kernel](./media/set-kernel.png)"
   ]
  },
  {
   "cell_type": "markdown",
   "metadata": {},
   "source": [
    "## (Optional) Load Custom local environment\n",
    "\n",
    "For the purposes of this tutorial, environment variables used during the exercise are stored in a .env file.  Please create or modify your local .env file prior to the next steps."
   ]
  },
  {
   "cell_type": "markdown",
   "metadata": {},
   "source": [
    "Load local environment from the .env file"
   ]
  },
  {
   "cell_type": "markdown",
   "metadata": {},
   "source": [
    "(Optional) If not already installed, install environment management package"
   ]
  },
  {
   "cell_type": "code",
   "execution_count": 14,
   "metadata": {},
   "outputs": [
    {
     "name": "stdout",
     "output_type": "stream",
     "text": [
      "Loading DEFAULT environment\n"
     ]
    }
   ],
   "source": [
    "import os.path\n",
    "\n",
    "env_type = \"DEFAULT\"\n",
    "\n",
    "if os.path.isfile(\".env\"):\n",
    "    print(\"Loading CUSTOM environment\")\n",
    "    try:\n",
    "        %reload_ext dotenv\n",
    "        print(\"Reloaded dotenv extension\")\n",
    "    except:\n",
    "        print(\"dotenv not found, installing with conda install\")\n",
    "        !conda install python-dotenv\n",
    "        %reload_ext dotenv\n",
    "    %dotenv\n",
    "\n",
    "    env_type = \"CUSTOM\"\n",
    "\n",
    "print(f\"Loading {env_type} environment\")"
   ]
  },
  {
   "cell_type": "markdown",
   "metadata": {},
   "source": [
    "##### Configure Azure ML session"
   ]
  },
  {
   "cell_type": "markdown",
   "metadata": {},
   "source": [
    "If it is necessary to configure local Azure ML session to point to the appropriate workspace and resource group.  The following code configures local CLI environment for subsequent use."
   ]
  },
  {
   "cell_type": "code",
   "execution_count": 15,
   "metadata": {},
   "outputs": [],
   "source": [
    "if \"CUSTOM\" == env_type:\n",
    "    !az configure --defaults workspace=%WORKSPACE_NAME% group=%RESOURCE_GROUP_NAME%"
   ]
  },
  {
   "cell_type": "markdown",
   "metadata": {},
   "source": [
    "(Optional) If not installed before, install Azure ML Extension to the CLI environment"
   ]
  },
  {
   "cell_type": "code",
   "execution_count": 39,
   "metadata": {},
   "outputs": [
    {
     "name": "stdout",
     "output_type": "stream",
     "text": [
      "Checking 'az ml' extension...\n",
      "\n",
      "'az ml' extension installed\n"
     ]
    }
   ],
   "source": [
    "\n",
    "print(\"Checking 'az ml' extension...\")\n",
    "extension_check = !az ml -h\n",
    "print()\n",
    "if \"ERROR: 'ml' is misspelled or not recognized by the system.\" in extension_check:\n",
    "    print(\"'az ml' extension not found.  Installing...\")\n",
    "    !az extension add -n ml\n",
    "\n",
    "print(\"'az ml' extension installed\")"
   ]
  }
 ],
 "metadata": {
  "kernelspec": {
   "display_name": "aigbb-aml-bootcamp",
   "language": "python",
   "name": "python3"
  },
  "language_info": {
   "codemirror_mode": {
    "name": "ipython",
    "version": 3
   },
   "file_extension": ".py",
   "mimetype": "text/x-python",
   "name": "python",
   "nbconvert_exporter": "python",
   "pygments_lexer": "ipython3",
   "version": "3.11.5"
  }
 },
 "nbformat": 4,
 "nbformat_minor": 2
}
