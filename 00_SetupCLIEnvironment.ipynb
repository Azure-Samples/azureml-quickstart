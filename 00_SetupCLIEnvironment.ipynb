{
 "cells": [
  {
   "cell_type": "markdown",
   "metadata": {},
   "source": [
    "# CLI Environment Setup Tutorial\n",
    "\n",
    "## Step 1: Create Compute Instance\n",
    "\n",
    "* If you opened this notebook from Azure Machine Learning studio, you need a compute instance to run the code. If you don't have a compute instance, select **Create compute** on the toolbar to first create one.  You can use all the default settings.  \n",
    "\n",
    "    ![Create compute](./media/create-compute.png)\n",
    "\n",
    "* If you're seeing this notebook elsewhere, complete [Create resources you need to get started](https://docs.microsoft.com/azure/machine-learning/quickstart-create-resources) to create an Azure Machine Learning workspace and a compute instance.\n",
    "\n",
    "## Step 2: Set your kernel\n",
    "\n",
    "* If your compute instance is stopped, start it now.  \n",
    "        \n",
    "    ![Start compute](./media/start-compute.png)\n",
    "\n",
    "Use the dropdown to select this kernel.\n",
    "   \n",
    "![Set the kernel](./media/set-kernel.png)"
   ]
  },
  {
   "cell_type": "markdown",
   "metadata": {},
   "source": [
    "## (Optional) Load Custom local environment\n",
    "\n",
    "For the purposes of this tutorial, environment variables used during the exercise are stored in a .env file.  Please create or modify your local .env file prior to the next steps."
   ]
  },
  {
   "cell_type": "markdown",
   "metadata": {},
   "source": [
    "Load local environment from the .env file"
   ]
  },
  {
   "cell_type": "markdown",
   "metadata": {},
   "source": [
    "(Optional) If not already installed, install environment management package"
   ]
  },
  {
   "cell_type": "code",
   "execution_count": 5,
   "metadata": {},
   "outputs": [
    {
     "name": "stdout",
     "output_type": "stream",
     "text": [
      "Loading CUSTOM environment\n",
      "Reloaded dotenv extension\n",
      "Loading CUSTOM environment\n"
     ]
    }
   ],
   "source": [
    "import os.path\n",
    "\n",
    "env_type = \"DEFAULT\"\n",
    "\n",
    "if os.path.isfile(\".env\"):\n",
    "    print(\"Loading CUSTOM environment\")\n",
    "    try:\n",
    "        %reload_ext dotenv\n",
    "        print(\"Reloaded dotenv extension\")\n",
    "    except:\n",
    "        print(\"dotenv not found, installing with conda install\")\n",
    "        !conda install  -y python-dotenv\n",
    "        %reload_ext dotenv\n",
    "    %dotenv\n",
    "\n",
    "    env_type = \"CUSTOM\"\n",
    "\n",
    "print(f\"Loading {env_type} environment\")"
   ]
  },
  {
   "cell_type": "markdown",
   "metadata": {},
   "source": [
    "##### Configure Azure ML session"
   ]
  },
  {
   "cell_type": "code",
   "execution_count": 8,
   "metadata": {},
   "outputs": [
    {
     "name": "stdout",
     "output_type": "stream",
     "text": [
      "aml-default\n"
     ]
    }
   ],
   "source": [
    "!echo $WORKSPACE_NAME"
   ]
  },
  {
   "cell_type": "markdown",
   "metadata": {},
   "source": [
    "If it is necessary to configure local Azure ML session to point to the appropriate workspace and resource group.  The following code configures local CLI environment for subsequent use."
   ]
  },
  {
   "cell_type": "code",
   "execution_count": 4,
   "metadata": {},
   "outputs": [
    {
     "name": "stdout",
     "output_type": "stream",
     "text": [
      "\u001b[91mThe command failed with an unexpected error. Here is the traceback:\u001b[0m\n",
      "\u001b[91minvalid interpolation syntax in '%WORKSPACE_NAME%' at position 0\n",
      "Traceback (most recent call last):\n",
      "  File \"/opt/homebrew/Cellar/azure-cli/2.53.1/libexec/lib/python3.10/site-packages/knack/cli.py\", line 233, in invoke\n",
      "    cmd_result = self.invocation.execute(args)\n",
      "  File \"/opt/homebrew/Cellar/azure-cli/2.53.1/libexec/lib/python3.10/site-packages/azure/cli/core/commands/__init__.py\", line 663, in execute\n",
      "    raise ex\n",
      "  File \"/opt/homebrew/Cellar/azure-cli/2.53.1/libexec/lib/python3.10/site-packages/azure/cli/core/commands/__init__.py\", line 726, in _run_jobs_serially\n",
      "    results.append(self._run_job(expanded_arg, cmd_copy))\n",
      "  File \"/opt/homebrew/Cellar/azure-cli/2.53.1/libexec/lib/python3.10/site-packages/azure/cli/core/commands/__init__.py\", line 697, in _run_job\n",
      "    result = cmd_copy(params)\n",
      "  File \"/opt/homebrew/Cellar/azure-cli/2.53.1/libexec/lib/python3.10/site-packages/azure/cli/core/commands/__init__.py\", line 333, in __call__\n",
      "    return self.handler(*args, **kwargs)\n",
      "  File \"/opt/homebrew/Cellar/azure-cli/2.53.1/libexec/lib/python3.10/site-packages/azure/cli/core/commands/command_operation.py\", line 121, in handler\n",
      "    return op(**command_args)\n",
      "  File \"/opt/homebrew/Cellar/azure-cli/2.53.1/libexec/lib/python3.10/site-packages/azure/cli/command_modules/configure/custom.py\", line 105, in handle_configure\n",
      "    cmd.cli_ctx.config.set_value(defaults_section, parts[0], _normalize_config_value(parts[1]))\n",
      "  File \"/opt/homebrew/Cellar/azure-cli/2.53.1/libexec/lib/python3.10/site-packages/knack/config.py\", line 161, in set_value\n",
      "    self._config_file_chain[-1].set_value(section, option, value)\n",
      "  File \"/opt/homebrew/Cellar/azure-cli/2.53.1/libexec/lib/python3.10/site-packages/knack/config.py\", line 239, in set_value\n",
      "    config.set(section, option, value)\n",
      "  File \"/opt/homebrew/Cellar/python@3.10/3.10.13_1/Frameworks/Python.framework/Versions/3.10/lib/python3.10/configparser.py\", line 1206, in set\n",
      "    super().set(section, option, value)\n",
      "  File \"/opt/homebrew/Cellar/python@3.10/3.10.13_1/Frameworks/Python.framework/Versions/3.10/lib/python3.10/configparser.py\", line 896, in set\n",
      "    value = self._interpolation.before_set(self, section, option,\n",
      "  File \"/opt/homebrew/Cellar/python@3.10/3.10.13_1/Frameworks/Python.framework/Versions/3.10/lib/python3.10/configparser.py\", line 403, in before_set\n",
      "    raise ValueError(\"invalid interpolation syntax in %r at \"\n",
      "ValueError: invalid interpolation syntax in '%WORKSPACE_NAME%' at position 0\u001b[0m\n",
      "To check existing issues, please visit: https://github.com/Azure/azure-cli/issues\n"
     ]
    }
   ],
   "source": [
    "from sys import platform\n",
    "if platform == \"linux\" or platform == \"linux2\":\n",
    "    # linux\n",
    "    !az configure --defaults workspace=$WORKSPACE_NAME group=$RESOURCE_GROUP_NAME\n",
    "elif platform == \"darwin\":\n",
    "    # OS X\n",
    "    !az configure --defaults workspace=$WORKSPACE_NAME group=$RESOURCE_GROUP_NAME\n",
    "elif platform == \"win32\":\n",
    "    # Windows...\n",
    "    !az configure --defaults workspace=%WORKSPACE_NAME% group=%RESOURCE_GROUP_NAME%\n",
    "\n",
    "# if \"CUSTOM\" == env_type:   \n",
    "#     !az configure --defaults workspace=%WORKSPACE_NAME% group=%RESOURCE_GROUP_NAME%"
   ]
  },
  {
   "cell_type": "markdown",
   "metadata": {},
   "source": [
    "(Optional) If not installed before, install Azure ML Extension to the CLI environment"
   ]
  },
  {
   "cell_type": "code",
   "execution_count": 3,
   "metadata": {},
   "outputs": [
    {
     "name": "stdout",
     "output_type": "stream",
     "text": [
      "Checking 'az ml' extension...\n",
      "\n",
      "'az ml' extension not found.  Installing...\n",
      "\u001b[93mExtension 'ml' 2.21.1 is already installed.\u001b[0m\n",
      "'az ml' extension installed\n"
     ]
    }
   ],
   "source": [
    "\n",
    "print(\"Checking 'az ml' extension...\")\n",
    "extension_check = !az ml -h\n",
    "print()\n",
    "if \"ERROR: 'ml' is misspelled or not recognized by the system.\" in extension_check:\n",
    "    print(\"'az ml' extension not found.  Installing...\")\n",
    "    !az extension add -n ml\n",
    "\n",
    "print(\"'az ml' extension installed\")"
   ]
  },
  {
   "cell_type": "code",
   "execution_count": null,
   "metadata": {},
   "outputs": [],
   "source": []
  }
 ],
 "metadata": {
  "kernelspec": {
   "display_name": "aigbb-aml-bootcamp",
   "language": "python",
   "name": "python3"
  },
  "language_info": {
   "codemirror_mode": {
    "name": "ipython",
    "version": 3
   },
   "file_extension": ".py",
   "mimetype": "text/x-python",
   "name": "python",
   "nbconvert_exporter": "python",
   "pygments_lexer": "ipython3",
   "version": "3.8.17"
  }
 },
 "nbformat": 4,
 "nbformat_minor": 2
}
