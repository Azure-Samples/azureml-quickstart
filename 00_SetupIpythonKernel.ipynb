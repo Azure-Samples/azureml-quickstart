{
 "cells": [
  {
   "cell_type": "code",
   "execution_count": null,
   "metadata": {},
   "outputs": [],
   "source": [
    "CONDA_ENV_NAME = 'amldemo_3_8'\n",
    "KERNEL_DISPLAY_NAME = 'Aml SDKv2 Py3_8'"
   ]
  },
  {
   "cell_type": "code",
   "execution_count": null,
   "metadata": {},
   "outputs": [],
   "source": [
    "%conda create --name {CONDA_ENV_NAME}  python=3.8 -y "
   ]
  },
  {
   "cell_type": "markdown",
   "metadata": {
    "jupyter": {
     "outputs_hidden": false,
     "source_hidden": false
    },
    "nteract": {
     "transient": {
      "deleting": false
     }
    }
   },
   "source": [
    "%conda create --name {CONDA_ENV_NAME}  python=3.8 -y"
   ]
  },
  {
   "cell_type": "code",
   "execution_count": null,
   "metadata": {},
   "outputs": [],
   "source": [
    "%conda install -n {CONDA_ENV_NAME} ipykernel -y"
   ]
  },
  {
   "cell_type": "code",
   "execution_count": null,
   "metadata": {},
   "outputs": [],
   "source": [
    "!/anaconda/envs/{CONDA_ENV_NAME}/bin/python -m ipykernel install --user --name {CONDA_ENV_NAME} --display-name \"{KERNEL_DISPLAY_NAME}\""
   ]
  },
  {
   "cell_type": "code",
   "execution_count": null,
   "metadata": {},
   "outputs": [],
   "source": []
  }
 ],
 "metadata": {
  "language_info": {
   "name": "python"
  }
 },
 "nbformat": 4,
 "nbformat_minor": 4
}
