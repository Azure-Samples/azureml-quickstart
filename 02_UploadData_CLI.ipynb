{
 "cells": [
  {
   "cell_type": "markdown",
   "metadata": {},
   "source": [
    "# Create an Azure Workspace Data asset from local file"
   ]
  },
  {
   "cell_type": "markdown",
   "metadata": {},
   "source": [
    "## Step 1: Import a Data assets into the Azure ML Workspace using CLI"
   ]
  },
  {
   "cell_type": "markdown",
   "metadata": {},
   "source": [
    "Import local data into the Azure ML Platform workspace"
   ]
  },
  {
   "cell_type": "code",
   "execution_count": 1,
   "metadata": {},
   "outputs": [
    {
     "name": "stdout",
     "output_type": "stream",
     "text": [
      "Overwriting dependencies/dataimport.yml\n"
     ]
    }
   ],
   "source": [
    "%%writefile dependencies/dataimport.yml\n",
    "$schema: https://azuremlschemas.azureedge.net/latest/data.schema.json\n",
    "name: credit_cards\n",
    "description: Data asset created from local file.\n",
    "type: uri_file\n",
    "path: ../data/default_of_credit_card_clients.csv"
   ]
  },
  {
   "cell_type": "code",
   "execution_count": 2,
   "metadata": {},
   "outputs": [
    {
     "name": "stdout",
     "output_type": "stream",
     "text": [
      "{\n",
      "  \"creation_context\": {\n",
      "    \"created_at\": \"2023-11-15T12:54:39.404122+00:00\",\n",
      "    \"created_by\": \"Anton Slutsky\",\n",
      "    \"created_by_type\": \"User\",\n",
      "    \"last_modified_at\": \"2023-11-15T12:54:39.412977+00:00\"\n",
      "  },\n",
      "  \"description\": \"Data asset created from local file.\",\n",
      "  \"id\": \"/subscriptions/781b03e7-6eb7-4506-bab8-cf3a0d89b1d4/resourceGroups/aigbb-aml-bootcamp/providers/Microsoft.MachineLearningServices/workspaces/aigbb-aml-bootcamp/data/credit_cards/versions/1\",\n",
      "  \"name\": \"credit_cards\",\n",
      "  \"path\": \"azureml://subscriptions/781b03e7-6eb7-4506-bab8-cf3a0d89b1d4/resourcegroups/aigbb-aml-bootcamp/workspaces/aigbb-aml-bootcamp/datastores/workspaceblobstore/paths/LocalUpload/4b1dfc4d12429b46389cabdf25b886a2/default_of_credit_card_clients.csv\",\n",
      "  \"properties\": {},\n",
      "  \"resourceGroup\": \"aigbb-aml-bootcamp\",\n",
      "  \"tags\": {},\n",
      "  \"type\": \"uri_file\",\n",
      "  \"version\": \"1\"\n",
      "}\n"
     ]
    },
    {
     "name": "stderr",
     "output_type": "stream",
     "text": [
      "\n",
      "Uploading default_of_credit_card_clients.csv (< 1 MB): 0.00B [00:00, ?B/s]\n",
      "Uploading default_of_credit_card_clients.csv (< 1 MB): 100%|##########| 2.90M/2.90M [00:00<00:00, 9.18MB/s]\n",
      "Uploading default_of_credit_card_clients.csv (< 1 MB): 100%|##########| 2.90M/2.90M [00:00<00:00, 9.18MB/s]\n",
      "\n",
      "\n"
     ]
    }
   ],
   "source": [
    "!az ml data create --file dependencies/dataimport.yml "
   ]
  },
  {
   "cell_type": "markdown",
   "metadata": {},
   "source": [
    "Read [Access data from Azure cloud storage during interactive development](how-to-access-data-interactive.md) to learn more about data access in a notebook."
   ]
  },
  {
   "cell_type": "markdown",
   "metadata": {},
   "source": [
    "## Step 2: Create Parquet version of the Data asset\n",
    "\n",
    "Create a new version of the data asset and store in Parquet file format\n",
    "\n",
    "You might have noticed that the data needs a little light cleaning, to make it fit to train a machine learning model. It has:\n",
    "\n",
    "* two headers\n",
    "* a client ID column; we wouldn't use this feature in Machine Learning\n",
    "* spaces in the response variable name\n",
    "\n",
    "Also, compared to the CSV format, the Parquet file format becomes a better way to store this data. Parquet offers compression, and it maintains schema. Therefore, to clean the data and store it in Parquet, use:"
   ]
  },
  {
   "cell_type": "markdown",
   "metadata": {},
   "source": [
    "### Step 2a: Install data wrangling libraries"
   ]
  },
  {
   "cell_type": "code",
   "execution_count": 3,
   "metadata": {},
   "outputs": [
    {
     "name": "stdout",
     "output_type": "stream",
     "text": [
      "Requirement already satisfied: pyarrow in /Users/alexzeltov/miniconda3/lib/python3.10/site-packages (11.0.0)\n",
      "Requirement already satisfied: pandas in /Users/alexzeltov/miniconda3/lib/python3.10/site-packages (1.5.3)\n",
      "Requirement already satisfied: numpy>=1.16.6 in /Users/alexzeltov/miniconda3/lib/python3.10/site-packages (from pyarrow) (1.24.1)\n",
      "Requirement already satisfied: python-dateutil>=2.8.1 in /Users/alexzeltov/miniconda3/lib/python3.10/site-packages (from pandas) (2.8.2)\n",
      "Requirement already satisfied: pytz>=2020.1 in /Users/alexzeltov/miniconda3/lib/python3.10/site-packages (from pandas) (2022.7.1)\n",
      "Requirement already satisfied: six>=1.5 in /Users/alexzeltov/miniconda3/lib/python3.10/site-packages (from python-dateutil>=2.8.1->pandas) (1.16.0)\n"
     ]
    }
   ],
   "source": [
    "!pip install pyarrow pandas"
   ]
  },
  {
   "cell_type": "code",
   "execution_count": 4,
   "metadata": {},
   "outputs": [],
   "source": [
    "import pandas as pd\n",
    "\n",
    "# read in data again, this time using the 2nd row as the header\n",
    "df = pd.read_csv(\"data/default_of_credit_card_clients.csv\", header=1)\n",
    "# rename column\n",
    "df.rename(columns={\"default payment next month\": \"default\"}, inplace=True)\n",
    "# remove ID column\n",
    "df.drop(\"ID\", axis=1, inplace=True)\n",
    "\n",
    "# write file to filesystem\n",
    "df.to_parquet(\"./data/cleaned-credit-card.parquet\")"
   ]
  },
  {
   "cell_type": "markdown",
   "metadata": {},
   "source": [
    "This table shows the structure of the data in the original **default_of_credit_card_clients.csv** file .CSV file downloaded in an earlier step. The uploaded data contains 23 explanatory variables and 1 response variable, as shown here:\n",
    "\n",
    "|Column Name(s) | Variable Type  |Description  |\n",
    "|---------|---------|---------|\n",
    "|X1     |   Explanatory      |    Amount of the given credit (NT dollar): it includes both the individual consumer credit and their family (supplementary) credit.    |\n",
    "|X2     |   Explanatory      |   Gender (1 = male; 2 = female).      |\n",
    "|X3     |   Explanatory      |   Education (1 = graduate school; 2 = university; 3 = high school; 4 = others).      |\n",
    "|X4     |   Explanatory      |    Marital status (1 = married; 2 = single; 3 = others).     |\n",
    "|X5     |   Explanatory      |    Age (years).     |\n",
    "|X6-X11     | Explanatory        |  History of past payment. We tracked the past monthly payment records (from April to September  2005). -1 = pay duly; 1 = payment delay for one month; 2 = payment delay for two months; . . .; 8 = payment delay for eight months; 9 = payment delay for nine months and above.      |\n",
    "|X12-17     | Explanatory        |  Amount of bill statement (NT dollar) from April to September  2005.      |\n",
    "|X18-23     | Explanatory        |  Amount of previous payment (NT dollar) from April to September  2005.      |\n",
    "|Y     | Response        |    Default payment (Yes = 1, No = 0)     |\n",
    "\n",
    "Next, create a new _version_ of the data asset (the data automatically uploads to cloud storage):\n",
    "\n",
    "> [!NOTE]\n",
    ">\n",
    "> This Python code cell sets **name** and **version** values for the data asset it creates. As a result, the code in this cell will fail if executed more than once, without a change to these values. Fixed **name** and **version** values offer a way to pass values that work for specific situations, without concern for auto-generated or randomly-generated values.\n"
   ]
  },
  {
   "cell_type": "markdown",
   "metadata": {},
   "source": [
    "### Step 2b: Import local data into the Azure ML Platform workspace"
   ]
  },
  {
   "cell_type": "code",
   "execution_count": 5,
   "metadata": {},
   "outputs": [
    {
     "name": "stdout",
     "output_type": "stream",
     "text": [
      "Writing dependencies/dataimport_parquet.yml\n"
     ]
    }
   ],
   "source": [
    "%%writefile dependencies/dataimport_parquet.yml\n",
    "$schema: https://azuremlschemas.azureedge.net/latest/data.schema.json\n",
    "name: credit_cards_parquet\n",
    "description: Data asset created from local file.\n",
    "type: uri_file\n",
    "path: ../data/cleaned-credit-card.parquet"
   ]
  },
  {
   "cell_type": "code",
   "execution_count": 6,
   "metadata": {},
   "outputs": [
    {
     "name": "stdout",
     "output_type": "stream",
     "text": [
      "\u001b[32mUploading cleaned-credit-card.parquet\u001b[32m (< 1 MB): 100%|█| 1.58M/1.58M [00:00<00:00\u001b[0m\n",
      "\u001b[39m\n",
      "\n",
      "{\n",
      "  \"creation_context\": {\n",
      "    \"created_at\": \"2023-11-15T12:55:22.488730+00:00\",\n",
      "    \"created_by\": \"Anton Slutsky\",\n",
      "    \"created_by_type\": \"User\",\n",
      "    \"last_modified_at\": \"2023-11-15T12:55:22.519881+00:00\"\n",
      "  },\n",
      "  \"description\": \"Data asset created from local file.\",\n",
      "  \"id\": \"/subscriptions/781b03e7-6eb7-4506-bab8-cf3a0d89b1d4/resourceGroups/aigbb-aml-bootcamp/providers/Microsoft.MachineLearningServices/workspaces/aigbb-aml-bootcamp/data/credit_cards_parquet/versions/1\",\n",
      "  \"name\": \"credit_cards_parquet\",\n",
      "  \"path\": \"azureml://subscriptions/781b03e7-6eb7-4506-bab8-cf3a0d89b1d4/resourcegroups/aigbb-aml-bootcamp/workspaces/aigbb-aml-bootcamp/datastores/workspaceblobstore/paths/LocalUpload/56b293e476b6312818bef5931254dae9/cleaned-credit-card.parquet\",\n",
      "  \"properties\": {},\n",
      "  \"resourceGroup\": \"aigbb-aml-bootcamp\",\n",
      "  \"tags\": {},\n",
      "  \"type\": \"uri_file\",\n",
      "  \"version\": \"1\"\n",
      "}\n"
     ]
    },
    {
     "name": "stderr",
     "output_type": "stream",
     "text": [
      "\n",
      "Uploading cleaned-credit-card.parquet (< 1 MB): 0.00B [00:00, ?B/s]\n",
      "Uploading cleaned-credit-card.parquet (< 1 MB): 100%|##########| 1.58M/1.58M [00:00<00:00, 7.39MB/s]\n",
      "Uploading cleaned-credit-card.parquet (< 1 MB): 100%|##########| 1.58M/1.58M [00:00<00:00, 7.23MB/s]\n",
      "\n",
      "\n"
     ]
    }
   ],
   "source": [
    "!az ml data create --file dependencies/dataimport_parquet.yml "
   ]
  },
  {
   "cell_type": "code",
   "execution_count": null,
   "metadata": {},
   "outputs": [],
   "source": []
  }
 ],
 "metadata": {
  "kernelspec": {
   "display_name": "aigbb-aml-bootcamp",
   "language": "python",
   "name": "python3"
  },
  "language_info": {
   "codemirror_mode": {
    "name": "ipython",
    "version": 3
   },
   "file_extension": ".py",
   "mimetype": "text/x-python",
   "name": "python",
   "nbconvert_exporter": "python",
   "pygments_lexer": "ipython3",
   "version": "3.8.0"
  }
 },
 "nbformat": 4,
 "nbformat_minor": 2
}
