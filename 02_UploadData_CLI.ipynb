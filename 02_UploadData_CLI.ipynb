{
 "cells": [
  {
   "cell_type": "markdown",
   "metadata": {},
   "source": [
    "# Create an Azure Workspace Data asset from local file"
   ]
  },
  {
   "cell_type": "markdown",
   "metadata": {},
   "source": [
    "## Step 1: Import a Data assets into the Azure ML Workspace using CLI"
   ]
  },
  {
   "cell_type": "markdown",
   "metadata": {},
   "source": [
    "Import local data into the Azure ML Platform workspace"
   ]
  },
  {
   "cell_type": "code",
   "execution_count": null,
   "metadata": {},
   "outputs": [
    {
     "name": "stdout",
     "output_type": "stream",
     "text": [
      "Overwriting dataimport.yml\n"
     ]
    }
   ],
   "source": [
    "%%writefile dataimport.yml\n",
    "$schema: https://azuremlschemas.azureedge.net/latest/data.schema.json\n",
    "name: credit_cards\n",
    "description: Data asset created from local file.\n",
    "type: uri_file\n",
    "path: data/default_of_credit_card_clients.csv"
   ]
  },
  {
   "cell_type": "code",
   "execution_count": null,
   "metadata": {},
   "outputs": [
    {
     "name": "stdout",
     "output_type": "stream",
     "text": [
      "{\n",
      "  \"creation_context\": {\n",
      "    \"created_at\": \"2023-10-25T02:45:34.988353+00:00\",\n",
      "    \"created_by\": \"alex zeltov\",\n",
      "    \"created_by_type\": \"User\",\n",
      "    \"last_modified_at\": \"2023-10-25T02:45:35.009952+00:00\"\n",
      "  },\n",
      "  \"description\": \"Data asset created from local file.\",\n",
      "  \"id\": \"/subscriptions/f1ea6ed8-82f3-416d-881b-8b376218bc85/resourceGroups/rg_aml/providers/Microsoft.MachineLearningServices/workspaces/aml-default/data/credit_cards/versions/2\",\n",
      "  \"name\": \"credit_cards\",\n",
      "  \"path\": \"azureml://subscriptions/781b03e7-6eb7-4506-bab8-cf3a0d89b1d4/resourcegroups/SandboxML/workspaces/quick-start-tutorial/datastores/workspaceblobstore/paths/LocalUpload/4b1dfc4d12429b46389cabdf25b886a2/default_of_credit_card_clients.csv\",\n",
      "  \"properties\": {},\n",
      "  \"resourceGroup\": \"SandboxML\",\n",
      "  \"tags\": {},\n",
      "  \"type\": \"uri_file\",\n",
      "  \"version\": \"2\"\n",
      "}\n",
      "\u001b[0m"
     ]
    }
   ],
   "source": [
    "!az ml data create --file dataimport.yml "
   ]
  },
  {
   "cell_type": "markdown",
   "metadata": {},
   "source": [
    "Read [Access data from Azure cloud storage during interactive development](how-to-access-data-interactive.md) to learn more about data access in a notebook."
   ]
  },
  {
   "cell_type": "markdown",
   "metadata": {},
   "source": [
    "## Step 2: Create Parquet version of the Data asset\n",
    "\n",
    "Create a new version of the data asset and store in Parquet file format\n",
    "\n",
    "You might have noticed that the data needs a little light cleaning, to make it fit to train a machine learning model. It has:\n",
    "\n",
    "* two headers\n",
    "* a client ID column; we wouldn't use this feature in Machine Learning\n",
    "* spaces in the response variable name\n",
    "\n",
    "Also, compared to the CSV format, the Parquet file format becomes a better way to store this data. Parquet offers compression, and it maintains schema. Therefore, to clean the data and store it in Parquet, use:"
   ]
  },
  {
   "cell_type": "markdown",
   "metadata": {},
   "source": [
    "### Step 2a: Install data wrangling libraries"
   ]
  },
  {
   "cell_type": "code",
   "execution_count": 5,
   "metadata": {},
   "outputs": [
    {
     "name": "stdout",
     "output_type": "stream",
     "text": [
      "Requirement already satisfied: pyarrow in c:\\users\\antonslutsky\\appdata\\local\\anaconda3\\envs\\aigbb-aml-bootcamp\\lib\\site-packages (13.0.0)\n",
      "Requirement already satisfied: pandas in c:\\users\\antonslutsky\\appdata\\local\\anaconda3\\envs\\aigbb-aml-bootcamp\\lib\\site-packages (2.1.1)\n",
      "Requirement already satisfied: numpy>=1.16.6 in c:\\users\\antonslutsky\\appdata\\local\\anaconda3\\envs\\aigbb-aml-bootcamp\\lib\\site-packages (from pyarrow) (1.26.1)\n",
      "Requirement already satisfied: python-dateutil>=2.8.2 in c:\\users\\antonslutsky\\appdata\\local\\anaconda3\\envs\\aigbb-aml-bootcamp\\lib\\site-packages (from pandas) (2.8.2)\n",
      "Requirement already satisfied: pytz>=2020.1 in c:\\users\\antonslutsky\\appdata\\local\\anaconda3\\envs\\aigbb-aml-bootcamp\\lib\\site-packages (from pandas) (2023.3.post1)\n",
      "Requirement already satisfied: tzdata>=2022.1 in c:\\users\\antonslutsky\\appdata\\local\\anaconda3\\envs\\aigbb-aml-bootcamp\\lib\\site-packages (from pandas) (2023.3)\n",
      "Requirement already satisfied: six>=1.5 in c:\\users\\antonslutsky\\appdata\\local\\anaconda3\\envs\\aigbb-aml-bootcamp\\lib\\site-packages (from python-dateutil>=2.8.2->pandas) (1.16.0)\n"
     ]
    }
   ],
   "source": [
    "!pip install pyarrow pandas"
   ]
  },
  {
   "cell_type": "code",
   "execution_count": 6,
   "metadata": {},
   "outputs": [],
   "source": [
    "import pandas as pd\n",
    "\n",
    "# read in data again, this time using the 2nd row as the header\n",
    "df = pd.read_csv(\"data/default_of_credit_card_clients.csv\", header=1)\n",
    "# rename column\n",
    "df.rename(columns={\"default payment next month\": \"default\"}, inplace=True)\n",
    "# remove ID column\n",
    "df.drop(\"ID\", axis=1, inplace=True)\n",
    "\n",
    "# write file to filesystem\n",
    "df.to_parquet(\"./data/cleaned-credit-card.parquet\")"
   ]
  },
  {
   "cell_type": "markdown",
   "metadata": {},
   "source": [
    "This table shows the structure of the data in the original **default_of_credit_card_clients.csv** file .CSV file downloaded in an earlier step. The uploaded data contains 23 explanatory variables and 1 response variable, as shown here:\n",
    "\n",
    "|Column Name(s) | Variable Type  |Description  |\n",
    "|---------|---------|---------|\n",
    "|X1     |   Explanatory      |    Amount of the given credit (NT dollar): it includes both the individual consumer credit and their family (supplementary) credit.    |\n",
    "|X2     |   Explanatory      |   Gender (1 = male; 2 = female).      |\n",
    "|X3     |   Explanatory      |   Education (1 = graduate school; 2 = university; 3 = high school; 4 = others).      |\n",
    "|X4     |   Explanatory      |    Marital status (1 = married; 2 = single; 3 = others).     |\n",
    "|X5     |   Explanatory      |    Age (years).     |\n",
    "|X6-X11     | Explanatory        |  History of past payment. We tracked the past monthly payment records (from April to September  2005). -1 = pay duly; 1 = payment delay for one month; 2 = payment delay for two months; . . .; 8 = payment delay for eight months; 9 = payment delay for nine months and above.      |\n",
    "|X12-17     | Explanatory        |  Amount of bill statement (NT dollar) from April to September  2005.      |\n",
    "|X18-23     | Explanatory        |  Amount of previous payment (NT dollar) from April to September  2005.      |\n",
    "|Y     | Response        |    Default payment (Yes = 1, No = 0)     |\n",
    "\n",
    "Next, create a new _version_ of the data asset (the data automatically uploads to cloud storage):\n",
    "\n",
    "> [!NOTE]\n",
    ">\n",
    "> This Python code cell sets **name** and **version** values for the data asset it creates. As a result, the code in this cell will fail if executed more than once, without a change to these values. Fixed **name** and **version** values offer a way to pass values that work for specific situations, without concern for auto-generated or randomly-generated values.\n"
   ]
  },
  {
   "cell_type": "markdown",
   "metadata": {},
   "source": [
    "### Step 2b: Import local data into the Azure ML Platform workspace"
   ]
  },
  {
   "cell_type": "code",
   "execution_count": 11,
   "metadata": {},
   "outputs": [
    {
     "name": "stdout",
     "output_type": "stream",
     "text": [
      "Overwriting dependencies/dataimport_parquet.yml\n"
     ]
    }
   ],
   "source": [
    "%%writefile dependencies/dataimport_parquet.yml\n",
    "$schema: https://azuremlschemas.azureedge.net/latest/data.schema.json\n",
    "name: credit_cards_parquet\n",
    "description: Data asset created from local file.\n",
    "type: uri_file\n",
    "path: ../data/cleaned-credit-card.parquet"
   ]
  },
  {
   "cell_type": "code",
   "execution_count": 12,
   "metadata": {},
   "outputs": [
    {
     "name": "stdout",
     "output_type": "stream",
     "text": [
      "{\n",
      "  \"creation_context\": {\n",
      "    \"created_at\": \"2023-10-25T13:43:54.759664+00:00\",\n",
      "    \"created_by\": \"Anton Slutsky\",\n",
      "    \"created_by_type\": \"User\",\n",
      "    \"last_modified_at\": \"2023-10-25T13:43:54.770426+00:00\"\n",
      "  },\n",
      "  \"description\": \"Data asset created from local file.\",\n",
      "  \"id\": \"/subscriptions/781b03e7-6eb7-4506-bab8-cf3a0d89b1d4/resourceGroups/SandboxML/providers/Microsoft.MachineLearningServices/workspaces/quick-start-tutorial/data/credit_cards_parquet/versions/1\",\n",
      "  \"name\": \"credit_cards_parquet\",\n",
      "  \"path\": \"azureml://subscriptions/781b03e7-6eb7-4506-bab8-cf3a0d89b1d4/resourcegroups/SandboxML/workspaces/quick-start-tutorial/datastores/workspaceblobstore/paths/LocalUpload/56b293e476b6312818bef5931254dae9/cleaned-credit-card.parquet\",\n",
      "  \"properties\": {},\n",
      "  \"resourceGroup\": \"SandboxML\",\n",
      "  \"tags\": {},\n",
      "  \"type\": \"uri_file\",\n",
      "  \"version\": \"1\"\n",
      "}\n"
     ]
    },
    {
     "name": "stderr",
     "output_type": "stream",
     "text": [
      "\n",
      "Uploading cleaned-credit-card.parquet (< 1 MB): 0.00B [00:00, ?B/s]\n",
      "Uploading cleaned-credit-card.parquet (< 1 MB): 100%|##########| 1.58M/1.58M [00:00<00:00, 3.16MB/s]\n",
      "Uploading cleaned-credit-card.parquet (< 1 MB): 100%|##########| 1.58M/1.58M [00:00<00:00, 3.15MB/s]\n",
      "\n",
      "\n"
     ]
    }
   ],
   "source": [
    "!az ml data create --file dependencies/dataimport_parquet.yml "
   ]
  }
 ],
 "metadata": {
  "kernelspec": {
   "display_name": "aigbb-aml-bootcamp",
   "language": "python",
   "name": "python3"
  },
  "language_info": {
   "codemirror_mode": {
    "name": "ipython",
    "version": 3
   },
   "file_extension": ".py",
   "mimetype": "text/x-python",
   "name": "python",
   "nbconvert_exporter": "python",
   "pygments_lexer": "ipython3",
   "version": "3.11.5"
  }
 },
 "nbformat": 4,
 "nbformat_minor": 2
}
