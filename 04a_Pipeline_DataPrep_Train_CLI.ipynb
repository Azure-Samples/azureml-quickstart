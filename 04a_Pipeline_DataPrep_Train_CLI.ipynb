{
 "cells": [
  {
   "cell_type": "markdown",
   "metadata": {},
   "source": [
    "# Tutorial: Create production machine learning pipelines\n"
   ]
  },
  {
   "cell_type": "markdown",
   "metadata": {},
   "source": [
    "The core of a machine learning pipeline is to split a complete machine learning task into a multistep workflow. Each step is a manageable component that can be developed, optimized, configured, and automated individually. Steps are connected through well-defined interfaces. The Azure Machine Learning pipeline service automatically orchestrates all the dependencies between pipeline steps. The benefits of using a pipeline are standardized the MLOps practice, scalable team collaboration, training efficiency and cost reduction. To learn more about the benefits of pipelines, see [What are Azure Machine Learning pipelines](https://learn.microsoft.comazure/machine-learning/concept-ml-pipelines).\n",
    "\n",
    "In this tutorial, you use Azure Machine Learning to create a production ready machine learning project, using Azure Machine Learning Python SDK v2.\n",
    "\n",
    "This means you will be able to leverage the AzureML Python SDK to:\n",
    "\n",
    "- Get a handle to your Azure Machine Learning workspace\n",
    "- Create Azure Machine Learning data assets\n",
    "- Create reusable Azure Machine Learning components\n",
    "- Create, validate and run Azure Machine Learning pipelines\n",
    "\n",
    "During this tutorial, you create an Azure Machine Learning pipeline to train a model for credit default prediction. The pipeline handles two steps: \n",
    "\n",
    "1. Data preparation\n",
    "1. Training and registering the trained model\n",
    "\n",
    "The next image shows a simple pipeline as you'll see it in the Azure studio once submitted.\n",
    "\n",
    "![Screenshot that shows the AML Pipeline](./media/pipeline-overview.jpg \"Overview of the pipeline\")\n"
   ]
  },
  {
   "cell_type": "markdown",
   "metadata": {},
   "source": [
    "## Prerequisites\n",
    "\n",
    "- Prereq 1: Execute the <a href=\"00_SetupCLIEnvironment.ipynb\">CLI Environment Setup Tutorial</a> in this notebook to load custom environment settings (if any)\n",
    "- Please create a Data asset by following steps in <a href=\"02_UploadData_CLI.ipynb\">CLI Upload Data Tutorial</a>\n",
    "- Please train a base model by following steps in <a href=\"03a_Train_Model_CLI.ipynb\">CLI Model Training Tutorial</a>"
   ]
  },
  {
   "cell_type": "code",
   "execution_count": 1,
   "metadata": {},
   "outputs": [
    {
     "name": "stdout",
     "output_type": "stream",
     "text": [
      "Requirement already satisfied: nbformat in c:\\users\\antonslutsky\\appdata\\local\\anaconda3\\envs\\aigbb-aml-bootcamp\\lib\\site-packages (5.9.2)\n",
      "Requirement already satisfied: fastjsonschema in c:\\users\\antonslutsky\\appdata\\local\\anaconda3\\envs\\aigbb-aml-bootcamp\\lib\\site-packages (from nbformat) (2.18.1)\n",
      "Requirement already satisfied: jsonschema>=2.6 in c:\\users\\antonslutsky\\appdata\\local\\anaconda3\\envs\\aigbb-aml-bootcamp\\lib\\site-packages (from nbformat) (4.19.1)\n",
      "Requirement already satisfied: jupyter-core in c:\\users\\antonslutsky\\appdata\\local\\anaconda3\\envs\\aigbb-aml-bootcamp\\lib\\site-packages (from nbformat) (5.4.0)\n",
      "Requirement already satisfied: traitlets>=5.1 in c:\\users\\antonslutsky\\appdata\\local\\anaconda3\\envs\\aigbb-aml-bootcamp\\lib\\site-packages (from nbformat) (5.11.2)\n",
      "Requirement already satisfied: attrs>=22.2.0 in c:\\users\\antonslutsky\\appdata\\local\\anaconda3\\envs\\aigbb-aml-bootcamp\\lib\\site-packages (from jsonschema>=2.6->nbformat) (23.1.0)\n",
      "Requirement already satisfied: jsonschema-specifications>=2023.03.6 in c:\\users\\antonslutsky\\appdata\\local\\anaconda3\\envs\\aigbb-aml-bootcamp\\lib\\site-packages (from jsonschema>=2.6->nbformat) (2023.7.1)\n",
      "Requirement already satisfied: referencing>=0.28.4 in c:\\users\\antonslutsky\\appdata\\local\\anaconda3\\envs\\aigbb-aml-bootcamp\\lib\\site-packages (from jsonschema>=2.6->nbformat) (0.30.2)\n",
      "Requirement already satisfied: rpds-py>=0.7.1 in c:\\users\\antonslutsky\\appdata\\local\\anaconda3\\envs\\aigbb-aml-bootcamp\\lib\\site-packages (from jsonschema>=2.6->nbformat) (0.10.6)\n",
      "Requirement already satisfied: platformdirs>=2.5 in c:\\users\\antonslutsky\\appdata\\local\\anaconda3\\envs\\aigbb-aml-bootcamp\\lib\\site-packages (from jupyter-core->nbformat) (3.11.0)\n",
      "Requirement already satisfied: pywin32>=300 in c:\\users\\antonslutsky\\appdata\\local\\anaconda3\\envs\\aigbb-aml-bootcamp\\lib\\site-packages (from jupyter-core->nbformat) (305.1)\n",
      "Note: you may need to restart the kernel to use updated packages.\n"
     ]
    }
   ],
   "source": [
    "%pip install nbformat"
   ]
  },
  {
   "cell_type": "code",
   "execution_count": 2,
   "metadata": {},
   "outputs": [
    {
     "name": "stdout",
     "output_type": "stream",
     "text": [
      "Loading CUSTOM environment\n",
      "Reloaded dotenv extension\n",
      "Loading CUSTOM environment\n",
      "aigbb-aml-bootcamp\n",
      "Checking 'az ml' extension...\n",
      "\n",
      "'az ml' extension installed\n"
     ]
    }
   ],
   "source": [
    "\n",
    "%run 00_SetupCLIEnvironment.ipynb"
   ]
  },
  {
   "cell_type": "markdown",
   "metadata": {},
   "source": [
    "## Set up the pipeline resources\n",
    "\n",
    "The Azure Machine Learning framework can be used from CLI, Python SDK, or studio interface. In this example, you use the Azure Machine Learning Python SDK v2 to create a pipeline. \n",
    "\n",
    "Before creating the pipeline, you need the following resources:\n",
    "\n",
    "* The data asset for training\n",
    "* The software environment to run the pipeline\n",
    "* A compute resource to where the job runs"
   ]
  },
  {
   "cell_type": "markdown",
   "metadata": {},
   "source": [
    "## Access the registered data asset using CLI\n",
    "\n",
    "Start by getting the data that you previously registered in [Tutorial: Upload, access and explore your data](explore-data.ipynb).\n",
    "\n",
    "* Azure Machine Learning uses a `Data` object to register a reusable definition of data, and consume data within a pipeline."
   ]
  },
  {
   "cell_type": "markdown",
   "metadata": {},
   "source": [
    "Since this is the first time that you're making a call to the workspace, you may be asked to authenticate. Once the authentication is complete, you then see the dataset registration completion message."
   ]
  },
  {
   "cell_type": "code",
   "execution_count": 3,
   "metadata": {},
   "outputs": [
    {
     "name": "stdout",
     "output_type": "stream",
     "text": [
      "{\n",
      "  \"creation_context\": {\n",
      "    \"created_at\": \"2023-11-15T12:54:39.404122+00:00\",\n",
      "    \"created_by\": \"Anton Slutsky\",\n",
      "    \"created_by_type\": \"User\",\n",
      "    \"last_modified_at\": \"2023-11-15T12:54:39.412977+00:00\"\n",
      "  },\n",
      "  \"description\": \"Data asset created from local file.\",\n",
      "  \"id\": \"/subscriptions/781b03e7-6eb7-4506-bab8-cf3a0d89b1d4/resourceGroups/aigbb-aml-bootcamp/providers/Microsoft.MachineLearningServices/workspaces/aigbb-aml-bootcamp/data/credit_cards/versions/1\",\n",
      "  \"name\": \"credit_cards\",\n",
      "  \"path\": \"azureml://subscriptions/781b03e7-6eb7-4506-bab8-cf3a0d89b1d4/resourcegroups/aigbb-aml-bootcamp/workspaces/aigbb-aml-bootcamp/datastores/workspaceblobstore/paths/LocalUpload/4b1dfc4d12429b46389cabdf25b886a2/default_of_credit_card_clients.csv\",\n",
      "  \"properties\": {},\n",
      "  \"resourceGroup\": \"aigbb-aml-bootcamp\",\n",
      "  \"tags\": {},\n",
      "  \"type\": \"uri_file\",\n",
      "  \"version\": \"1\"\n",
      "}\n"
     ]
    }
   ],
   "source": [
    "!az ml data show --name \"credit_cards\" --label \"latest\" "
   ]
  },
  {
   "cell_type": "markdown",
   "metadata": {},
   "source": [
    "## Create a compute resource to run your pipeline (Optional)\n",
    "\n",
    "You can **skip this step** if you want to use [serverless compute (preview)](https://learn.microsoft.com/azure/machine-learning/how-to-use-serverless-compute?view=azureml-api-2&tabs=python) to run the training job. Through serverless compute, Azure Machine Learning takes care of creating, scaling, deleting, patching and managing compute, along with providing managed network isolation, reducing the burden on you. \n",
    "\n",
    "Each step of an Azure Machine Learning pipeline can use a different compute resource for running the specific job of that step. It can be single or multi-node machines with Linux or Windows OS, or a specific compute fabric like Spark.\n",
    "\n",
    "In this section, you provision a Linux  [compute cluster](https://docs.microsoft.com/azure/machine-learning/how-to-create-attach-compute-cluster?tabs=python). See the [full list on VM sizes and prices](https://azure.microsoft.com/en-ca/pricing/details/machine-learning/) .\n",
    "\n",
    "For this tutorial, you only need a basic cluster so use a Standard_DS3_v2 model with 2 vCPU cores, 7-GB RAM and create an Azure Machine Learning Compute.\n",
    "> [!TIP]\n",
    "> If you already have a compute cluster, replace \"cpu-cluster\" in the next code block with the name of your cluster.  This will keep you from creating another one.\n"
   ]
  },
  {
   "cell_type": "code",
   "execution_count": 13,
   "metadata": {},
   "outputs": [
    {
     "name": "stdout",
     "output_type": "stream",
     "text": [
      "env: CLUSTER_NAME=cpu-cluster\n",
      "\u001b[K{\\ Finished ..\n",
      "  \"enable_node_public_ip\": true,\n",
      "  \"id\": \"/subscriptions/f1ea6ed8-82f3-416d-881b-8b376218bc85/resourceGroups/rg_aml/providers/Microsoft.MachineLearningServices/workspaces/aml-default/computes/cpu-cluster\",\n",
      "  \"idle_time_before_scale_down\": 180,\n",
      "  \"location\": \"eastus\",\n",
      "  \"max_instances\": 4,\n",
      "  \"min_instances\": 0,\n",
      "  \"name\": \"cpu-cluster\",\n",
      "  \"network_settings\": {},\n",
      "  \"provisioning_state\": \"Succeeded\",\n",
      "  \"resourceGroup\": \"rg_aml\",\n",
      "  \"size\": \"STANDARD_DS3_V2\",\n",
      "  \"ssh_public_access_enabled\": true,\n",
      "  \"tier\": \"dedicated\",\n",
      "  \"type\": \"amlcompute\"\n",
      "}\n",
      "\u001b[0m"
     ]
    }
   ],
   "source": [
    "%env CLUSTER_NAME cpu-cluster\n",
    "!az ml compute create -n cpu-cluster --type amlcompute \\\n",
    "    --min-instances 0 \\\n",
    "    --max-instances 4 \\\n",
    "    --size STANDARD_DS3_V2 \\\n",
    "    --idle-time-before-scale-down 180 \\\n",
    "    --tier Dedicated"
   ]
  },
  {
   "cell_type": "markdown",
   "metadata": {
    "tags": []
   },
   "source": [
    "==========================================================================================\n",
    "# OPTIONAL- Run this if you have not done previous steps!\n",
    "## Create a job environment for pipeline steps. \n",
    "\n",
    "So far, you've created a development environment on the compute instance, your development machine. You also need an environment to use for each step of the pipeline. Each step can have its own environment, or you can use some common environments for multiple steps.\n",
    "\n",
    "In this example, you create a conda environment for your jobs, using a conda yaml file.\n",
    "First, create a directory to store the file in."
   ]
  },
  {
   "cell_type": "markdown",
   "metadata": {},
   "source": [
    "## Build the training pipeline\n",
    "\n",
    "Now that you have all assets required to run your pipeline, it's time to build the pipeline itself.\n",
    "\n",
    "Azure Machine Learning pipelines are reusable ML workflows that usually consist of several components. The typical life of a component is:\n",
    "\n",
    "- Write the yaml specification of the component, or create it programmatically using the `az component` CLI command.\n",
    "- Load that component from the pipeline code.\n",
    "- Implement the pipeline using the component's inputs, outputs and parameters.\n",
    "- Submit the pipeline.\n",
    "\n",
    "There are two ways to create a component, programmatic and yaml definition. The next two sections walk you through creating a component both ways. You can either create the two components trying both options or pick your preferred method.\n",
    "\n",
    "> [!NOTE]\n",
    "> In this tutorial for simplicity we are using the same compute for all components. However, you can set different computes for each component, for example by adding a line like `\"compute: azureml:cpu-cluster\"`. To view an example of building a pipeline with different computes for each component, see the [Basic pipeline job section in the cifar-10 pipeline tutorial](https://github.com/Azure/azureml-examples/blob/main/sdk/python/jobs/pipelines/2b_train_cifar_10_with_pytorch/train_cifar_10_with_pytorch.ipynb).\n",
    "\n",
    "### Create component 1: data prep (using SDK programmatic definition)\n",
    "\n",
    "Let's start by creating the first component. This component handles the preprocessing of the data. The preprocessing task is performed in the *data_prep.py* Python file.\n",
    "\n",
    "First create a source folder for the data_prep component:"
   ]
  },
  {
   "cell_type": "code",
   "execution_count": 10,
   "metadata": {
    "attributes": {
     "classes": [
      "Python"
     ],
     "id": ""
    },
    "name": "data_prep_src_dir"
   },
   "outputs": [
    {
     "name": "stderr",
     "output_type": "stream",
     "text": [
      "A subdirectory or file components\\data_prep already exists.\n"
     ]
    }
   ],
   "source": [
    "!mkdir components\\data_prep"
   ]
  },
  {
   "cell_type": "markdown",
   "metadata": {},
   "source": [
    "This script performs the simple task of splitting the data into train and test datasets. Azure Machine Learning mounts datasets as folders to the computes, therefore, we created an auxiliary `select_first_file` function to access the data file inside the mounted input folder. \n",
    "\n",
    "[MLFlow](https://learn.microsoft.com/articles/machine-learning/concept-mlflow) is used to log the parameters and metrics during our pipeline run."
   ]
  },
  {
   "cell_type": "code",
   "execution_count": 10,
   "metadata": {
    "attributes": {
     "classes": [
      "Python"
     ],
     "id": ""
    },
    "name": "def-main"
   },
   "outputs": [
    {
     "name": "stdout",
     "output_type": "stream",
     "text": [
      "Overwriting components/data_prep/data_prep.py\n"
     ]
    }
   ],
   "source": [
    "%%writefile components/data_prep/data_prep.py\n",
    "import os\n",
    "import argparse\n",
    "import pandas as pd\n",
    "from sklearn.model_selection import train_test_split\n",
    "import logging\n",
    "import mlflow\n",
    "\n",
    "\n",
    "def main():\n",
    "    \"\"\"Main function of the script.\"\"\"\n",
    "\n",
    "    # input and output arguments\n",
    "    parser = argparse.ArgumentParser()\n",
    "    parser.add_argument(\"--data\", type=str, help=\"path to input data\")\n",
    "    parser.add_argument(\"--test_train_ratio\", type=float, required=False, default=0.25)\n",
    "    parser.add_argument(\"--train_data_csv\", type=str, help=\"name of train data\")\n",
    "    parser.add_argument(\"--test_data_csv\", type=str, help=\"name of test data\")\n",
    "    args = parser.parse_args()\n",
    "\n",
    "    # Start Logging\n",
    "    mlflow.start_run()\n",
    "\n",
    "    print(\" \".join(f\"{k}={v}\" for k, v in vars(args).items()))\n",
    "\n",
    "    print(\"input data:\", args.data)\n",
    "\n",
    "    credit_df = pd.read_csv(args.data, header=1, index_col=0)\n",
    "\n",
    "    mlflow.log_metric(\"num_samples\", credit_df.shape[0])\n",
    "    mlflow.log_metric(\"num_features\", credit_df.shape[1] - 1)\n",
    "\n",
    "    credit_train_df, credit_test_df = train_test_split(\n",
    "        credit_df,\n",
    "        test_size=args.test_train_ratio,\n",
    "    )\n",
    "\n",
    "    os.makedirs(args.train_data_csv, exist_ok=True)\n",
    "    os.makedirs(args.test_data_csv, exist_ok=True)\n",
    "\n",
    "    print(\"???!!!\", args.train_data_csv)\n",
    "\n",
    "    # output paths are mounted as folder, therefore, we are adding a filename to the path\n",
    "    # train_data_path = os.path.join(args.train_data, \"data.csv\")\n",
    "    # print(\"train_data_path\", os.path.abspath(train_data_path))\n",
    "\n",
    "\n",
    "    credit_train_df.to_csv(os.path.join(os.getcwd(), args.train_data_csv, \"data.csv\"), index=False)\n",
    "\n",
    "    # test_data_path = os.path.join(args.test_data, \"data.csv\")\n",
    "    # print(\"test_data_path\", os.path.abspath(test_data_path))\n",
    "    credit_test_df.to_csv(os.path.join(os.getcwd(), args.test_data_csv, \"data.csv\"), index=False)\n",
    "\n",
    "    # Stop Logging\n",
    "    mlflow.end_run()\n",
    "\n",
    "\n",
    "if __name__ == \"__main__\":\n",
    "    main()"
   ]
  },
  {
   "cell_type": "markdown",
   "metadata": {},
   "source": [
    "Now that you have a script that can perform the desired task, create an Azure Machine Learning Component from it.\n",
    "\n",
    "Use the general purpose `component` that can run command line actions. This command line action uses a YAML configuration file to configure a run script execution. The inputs/outputs are specified in the YAML file via the `${{ ... }}` notation.\n"
   ]
  },
  {
   "cell_type": "markdown",
   "metadata": {},
   "source": [
    "Now create a component configuration file that references the conda.yml (above) to create a job and initialize execution."
   ]
  },
  {
   "cell_type": "code",
   "execution_count": 9,
   "metadata": {},
   "outputs": [
    {
     "name": "stdout",
     "output_type": "stream",
     "text": [
      "Overwriting components/data_prep/cli_job.yml\n"
     ]
    }
   ],
   "source": [
    "%%writefile components/data_prep/cli_job.yml\n",
    "$schema: https://azuremlschemas.azureedge.net/latest/commandJob.schema.json\n",
    "name: data_prep_component\n",
    "code: .\n",
    "command: >-\n",
    "  python data_prep.py \n",
    "  --data ${{inputs.data}} \n",
    "  --test_train_ratio ${{inputs.test_train_ratio}} \n",
    "  --train_data_csv ${{outputs.train_data_csv}}\n",
    "  --test_data_csv ${{outputs.test_data_csv}}\n",
    "inputs:\n",
    "  data: \n",
    "    type: uri_file\n",
    "  test_train_ratio: \n",
    "    type: number\n",
    "  train_data_csv: \n",
    "    type: string\n",
    "  test_data_csv: \n",
    "    type: string\n",
    "outputs:\n",
    "  train_data_csv:\n",
    "    type: uri_folder\n",
    "    mode: rw_mount\n",
    "  test_data_csv:\n",
    "    type: uri_folder\n",
    "    mode: rw_mount\n",
    "environment: azureml:aigbb-aml-bootcamp-environment@latest\n",
    "compute: azureml:cpu-cluster\n",
    "display_name: 04a_Pipeline_DataPrep_CLI_Job\n",
    "experiment_name: aigbb-aml-bootcamp\n",
    "description: Train a Machine Learning model using a workspace Data asset.\n"
   ]
  },
  {
   "cell_type": "code",
   "execution_count": 5,
   "metadata": {},
   "outputs": [
    {
     "name": "stdout",
     "output_type": "stream",
     "text": [
      "{\n",
      "  \"$schema\": \"https://azuremlschemas.azureedge.net/latest/commandJob.schema.json\",\n",
      "  \"code\": \"azureml:/subscriptions/781b03e7-6eb7-4506-bab8-cf3a0d89b1d4/resourceGroups/aigbb-aml-bootcamp/providers/Microsoft.MachineLearningServices/workspaces/aigbb-aml-bootcamp/codes/ea7173b8-137c-4f01-9822-74a507f0b880/versions/1\",\n",
      "  \"command\": \"python data_prep.py  --data ${{inputs.data}}  --test_train_ratio ${{inputs.test_train_ratio}}  --train_data_csv ${{outputs.train_data_csv}} --test_data_csv ${{outputs.test_data_csv}}\",\n",
      "  \"creation_context\": {\n",
      "    \"created_at\": \"2023-11-17T14:22:07.835009+00:00\",\n",
      "    \"created_by\": \"Anton Slutsky\",\n",
      "    \"created_by_type\": \"User\",\n",
      "    \"last_modified_at\": \"2023-11-17T14:22:07.988964+00:00\",\n",
      "    \"last_modified_by\": \"Anton Slutsky\",\n",
      "    \"last_modified_by_type\": \"User\"\n",
      "  },\n",
      "  \"description\": \"Train a Machine Learning model using a workspace Data asset.\",\n",
      "  \"display_name\": \"04a_Pipeline_DataPrep_CLI_Job\",\n",
      "  \"environment\": \"azureml:/subscriptions/781b03e7-6eb7-4506-bab8-cf3a0d89b1d4/resourceGroups/aigbb-aml-bootcamp/providers/Microsoft.MachineLearningServices/workspaces/aigbb-aml-bootcamp/environments/aigbb-aml-bootcamp-environment/versions/1\",\n",
      "  \"id\": \"azureml:/subscriptions/781b03e7-6eb7-4506-bab8-cf3a0d89b1d4/resourceGroups/aigbb-aml-bootcamp/providers/Microsoft.MachineLearningServices/workspaces/aigbb-aml-bootcamp/components/data_prep_component/versions/2023-11-17-14-22-06-2086207\",\n",
      "  \"inputs\": {\n",
      "    \"data\": {\n",
      "      \"optional\": false,\n",
      "      \"type\": \"uri_file\"\n",
      "    },\n",
      "    \"test_data_csv\": {\n",
      "      \"optional\": false,\n",
      "      \"type\": \"string\"\n",
      "    },\n",
      "    \"test_train_ratio\": {\n",
      "      \"optional\": false,\n",
      "      \"type\": \"number\"\n",
      "    },\n",
      "    \"train_data_csv\": {\n",
      "      \"optional\": false,\n",
      "      \"type\": \"string\"\n",
      "    }\n",
      "  },\n",
      "  \"is_deterministic\": true,\n",
      "  \"name\": \"data_prep_component\",\n",
      "  \"outputs\": {\n",
      "    \"test_data_csv\": {\n",
      "      \"type\": \"uri_folder\"\n",
      "    },\n",
      "    \"train_data_csv\": {\n",
      "      \"type\": \"uri_folder\"\n",
      "    }\n",
      "  },\n",
      "  \"resourceGroup\": \"aigbb-aml-bootcamp\",\n",
      "  \"resources\": {\n",
      "    \"instance_count\": 1\n",
      "  },\n",
      "  \"type\": \"command\",\n",
      "  \"version\": \"2023-11-17-14-22-06-2086207\"\n",
      "}\n"
     ]
    }
   ],
   "source": [
    "!az ml component create -f components/data_prep/cli_job.yml"
   ]
  },
  {
   "cell_type": "markdown",
   "metadata": {},
   "source": [
    "### Create component 2: training (using yaml definition)\n",
    "\n",
    "The second component that you create consumes the training and test data, train a tree based model and return the output model. Use Azure Machine Learning logging capabilities to record and visualize the learning progress.\n",
    "\n",
    "You used the `CommandComponent` class to create your first component. This time you use the yaml definition to define the second component. Each method has its own advantages. A yaml definition can actually be checked-in along the code, and would provide a readable history tracking. The programmatic method using `CommandComponent` can be easier with built-in class documentation and code completion.\n",
    "\n",
    "Create the directory for this component:"
   ]
  },
  {
   "cell_type": "code",
   "execution_count": 12,
   "metadata": {
    "attributes": {
     "classes": [
      "Python"
     ],
     "id": ""
    },
    "name": "train_src_dir"
   },
   "outputs": [],
   "source": [
    "!mkdir .\\components\\train"
   ]
  },
  {
   "cell_type": "markdown",
   "metadata": {},
   "source": [
    "Create the training script in the directory:\n"
   ]
  },
  {
   "cell_type": "code",
   "execution_count": 13,
   "metadata": {
    "attributes": {
     "classes": [
      "Python"
     ],
     "id": ""
    },
    "name": "train.py"
   },
   "outputs": [
    {
     "name": "stdout",
     "output_type": "stream",
     "text": [
      "Writing components/train/train.py\n"
     ]
    }
   ],
   "source": [
    "%%writefile components/train/train.py\n",
    "import argparse\n",
    "from sklearn.ensemble import GradientBoostingClassifier\n",
    "from sklearn.metrics import classification_report\n",
    "import os\n",
    "import pandas as pd\n",
    "import mlflow\n",
    "\n",
    "\n",
    "def select_first_file(path):\n",
    "    \"\"\"Selects first file in folder, use under assumption there is only one file in folder\n",
    "    Args:\n",
    "        path (str): path to directory or file to choose\n",
    "    Returns:\n",
    "        str: full path of selected file\n",
    "    \"\"\"\n",
    "    \n",
    "    print(\"path: \", path)\n",
    "    \n",
    "    files = os.listdir(path)\n",
    "    \n",
    "    print(\"Files in path: \", files)\n",
    "\n",
    "\n",
    "    return os.path.join(path, files[0])\n",
    "\n",
    "\n",
    "# Start Logging\n",
    "mlflow.start_run()\n",
    "\n",
    "# enable autologging\n",
    "mlflow.sklearn.autolog()\n",
    "\n",
    "os.makedirs(\"./outputs\", exist_ok=True)\n",
    "\n",
    "\n",
    "def main():\n",
    "    \"\"\"Main function of the script.\"\"\"\n",
    "\n",
    "    # input and output arguments\n",
    "    parser = argparse.ArgumentParser()\n",
    "    parser.add_argument(\"--train_data_csv\", type=str, help=\"path to train data\")\n",
    "    parser.add_argument(\"--test_data_csv\", type=str, help=\"path to test data\")\n",
    "    parser.add_argument(\"--n_estimators\", required=False, default=100, type=int)\n",
    "    parser.add_argument(\"--learning_rate\", required=False, default=0.1, type=float)\n",
    "    parser.add_argument(\"--registered_model_name\", type=str, help=\"model name\")\n",
    "    parser.add_argument(\"--model\", type=str, help=\"path to model file\")\n",
    "    args = parser.parse_args()\n",
    "    \n",
    "\n",
    "    # paths are mounted as folder, therefore, we are selecting the file from folder\n",
    "    train_df = pd.read_csv(select_first_file(args.train_data_csv))\n",
    "    #train_df = pd.read_csv(args.train_data_csv)\n",
    "\n",
    "    # Extracting the label column\n",
    "    y_train = train_df.pop(\"default payment next month\")\n",
    "\n",
    "    # convert the dataframe values to array\n",
    "    X_train = train_df.values\n",
    "\n",
    "    # paths are mounted as folder, therefore, we are selecting the file from folder\n",
    "    test_df = pd.read_csv(select_first_file(args.test_data_csv))\n",
    "    #test_df = pd.read_csv(args.test_data_csv)\n",
    "\n",
    "    # Extracting the label column\n",
    "    y_test = test_df.pop(\"default payment next month\")\n",
    "\n",
    "    # convert the dataframe values to array\n",
    "    X_test = test_df.values\n",
    "\n",
    "    print(f\"Training with data of shape {X_train.shape}\")\n",
    "\n",
    "    clf = GradientBoostingClassifier(\n",
    "        n_estimators=args.n_estimators, learning_rate=args.learning_rate\n",
    "    )\n",
    "    clf.fit(X_train, y_train)\n",
    "\n",
    "    y_pred = clf.predict(X_test)\n",
    "\n",
    "    print(classification_report(y_test, y_pred))\n",
    "\n",
    "    # Registering the model to the workspace\n",
    "    print(\"Registering the model via MLFlow\")\n",
    "    mlflow.sklearn.log_model(\n",
    "        sk_model=clf,\n",
    "        registered_model_name=args.registered_model_name,\n",
    "        artifact_path=args.registered_model_name,\n",
    "    )\n",
    "\n",
    "    # Saving the model to a file\n",
    "    mlflow.sklearn.save_model(\n",
    "        sk_model=clf,\n",
    "        path=os.path.join(args.model, \"trained_model\"),\n",
    "    )\n",
    "\n",
    "    # Stop Logging\n",
    "    mlflow.end_run()\n",
    "\n",
    "\n",
    "if __name__ == \"__main__\":\n",
    "    main()"
   ]
  },
  {
   "cell_type": "markdown",
   "metadata": {},
   "source": [
    "As you can see in this training script, once the model is trained, the model file is saved and registered to the workspace. Now you can use the registered model in inferencing endpoints.\n",
    "\n",
    "For the environment of this step, you use one of the built-in (curated) Azure Machine Learning environments. The tag `azureml`, tells the system to use look for the name in curated environments.\n",
    "First, create the *yaml* file describing the component:"
   ]
  },
  {
   "cell_type": "code",
   "execution_count": 14,
   "metadata": {
    "attributes": {
     "classes": [
      "Python"
     ],
     "id": ""
    },
    "name": "train.yml"
   },
   "outputs": [
    {
     "name": "stdout",
     "output_type": "stream",
     "text": [
      "Writing ./components/train/train.yml\n"
     ]
    }
   ],
   "source": [
    "%%writefile ./components/train/train.yml\n",
    "# <component>\n",
    "name: train_credit_defaults_component\n",
    "display_name: Train Credit Defaults Component\n",
    "# version: 1 # Not specifying a version will automatically update the version\n",
    "type: command\n",
    "inputs:\n",
    "  train_data_csv: \n",
    "    type: uri_folder\n",
    "    mode: ro_mount\n",
    "  test_data_csv: \n",
    "    type: uri_file\n",
    "    mode: ro_mount\n",
    "  learning_rate:\n",
    "    type: number     \n",
    "  registered_model_name:\n",
    "    type: string\n",
    "outputs:\n",
    "  model:\n",
    "    type: uri_folder\n",
    "code: .\n",
    "environment: azureml:aigbb-aml-bootcamp-environment@latest\n",
    "command: >-\n",
    "  python train.py \n",
    "  --train_data ${{inputs.train_data_csv}} \n",
    "  --test_data ${{inputs.test_data_csv}} \n",
    "  --learning_rate ${{inputs.learning_rate}}\n",
    "  --registered_model_name ${{inputs.registered_model_name}} \n",
    "  --model ${{outputs.model}}\n",
    "# </component>\n"
   ]
  },
  {
   "cell_type": "markdown",
   "metadata": {},
   "source": [
    "Now create and register the component.  Registering it allows you to re-use it in other pipelines.  Also, anyone else with access to your workspace can use the registered component."
   ]
  },
  {
   "cell_type": "code",
   "execution_count": 6,
   "metadata": {},
   "outputs": [
    {
     "name": "stdout",
     "output_type": "stream",
     "text": [
      "\u001b[32mUploading train (0.0 MBs): 100%|█████████| 3664/3664 [00:00<00:00, 32937.54it/s]\u001b[0m\n",
      "\u001b[39m\n",
      "\n",
      "{\n",
      "  \"code\": \"azureml:/subscriptions/f1ea6ed8-82f3-416d-881b-8b376218bc85/resourceGroups/rg_aml/providers/Microsoft.MachineLearningServices/workspaces/aml-default/codes/ef0ba804-f371-4eb7-bb1b-9af3d0f5d45c/versions/1\",\n",
      "  \"command\": \"python train.py  --train_data ${{inputs.train_data_csv}}  --test_data ${{inputs.test_data_csv}}  --learning_rate ${{inputs.learning_rate}} --registered_model_name ${{inputs.registered_model_name}}  --model ${{outputs.model}}\",\n",
      "  \"creation_context\": {\n",
      "    \"created_at\": \"2023-11-13T18:50:40.129282+00:00\",\n",
      "    \"created_by\": \"alex zeltov\",\n",
      "    \"created_by_type\": \"User\",\n",
      "    \"last_modified_at\": \"2023-11-13T18:50:40.263182+00:00\",\n",
      "    \"last_modified_by\": \"alex zeltov\",\n",
      "    \"last_modified_by_type\": \"User\"\n",
      "  },\n",
      "  \"display_name\": \"Train Credit Defaults Component\",\n",
      "  \"environment\": \"azureml://registries/azureml/environments/AzureML-sklearn-1.0-ubuntu20.04-py38-cpu/versions/1\",\n",
      "  \"id\": \"azureml:/subscriptions/f1ea6ed8-82f3-416d-881b-8b376218bc85/resourceGroups/rg_aml/providers/Microsoft.MachineLearningServices/workspaces/aml-default/components/train_credit_defaults_component/versions/1\",\n",
      "  \"inputs\": {\n",
      "    \"learning_rate\": {\n",
      "      \"optional\": false,\n",
      "      \"type\": \"number\"\n",
      "    },\n",
      "    \"registered_model_name\": {\n",
      "      \"optional\": false,\n",
      "      \"type\": \"string\"\n",
      "    },\n",
      "    \"test_data_csv\": {\n",
      "      \"optional\": false,\n",
      "      \"type\": \"uri_file\"\n",
      "    },\n",
      "    \"train_data_csv\": {\n",
      "      \"optional\": false,\n",
      "      \"type\": \"uri_folder\"\n",
      "    }\n",
      "  },\n",
      "  \"is_deterministic\": true,\n",
      "  \"name\": \"train_credit_defaults_component\",\n",
      "  \"outputs\": {\n",
      "    \"model\": {\n",
      "      \"type\": \"uri_folder\"\n",
      "    }\n",
      "  },\n",
      "  \"resourceGroup\": \"rg_aml\",\n",
      "  \"resources\": {\n",
      "    \"instance_count\": 1\n",
      "  },\n",
      "  \"type\": \"command\",\n",
      "  \"version\": \"1\"\n",
      "}\n",
      "\u001b[0m"
     ]
    }
   ],
   "source": [
    "!az ml component create -f  ./components/train/train.yml"
   ]
  },
  {
   "attachments": {
    "image.png": {
     "image/png": "[encoded data removed]"
    }
   },
   "cell_type": "markdown",
   "metadata": {},
   "source": [
    "The newly created components may be found in the Components section of the Azure ML workspace\n",
    "![image.png](attachment:image.png)"
   ]
  },
  {
   "cell_type": "markdown",
   "metadata": {},
   "source": [
    "### Create the pipeline from components\n",
    "\n",
    "Now that both your components are defined and registered, you can start implementing the pipeline.\n"
   ]
  },
  {
   "cell_type": "markdown",
   "metadata": {},
   "source": [
    "Here, you use *input data*, *split ratio* and *registered model name* as input variables. Then call the components and connect them via their inputs/outputs identifiers. The outputs of each step can be accessed via the `.outputs` property.\n"
   ]
  },
  {
   "cell_type": "markdown",
   "metadata": {
    "attributes": {
     "classes": [
      "Python"
     ],
     "id": ""
    }
   },
   "source": [
    "A YAML configuration file is used to represent the Azure Machine Learning pipeline structure as a directed acyclic graph (DAG). In the YAML configuration, we can specify the pipeline description and default resources like compute and storage.  Similar to components, pipelines can have inputs and output. You can then create multiple instances of a single pipeline with different inputs.\n",
    "\n",
    "Here, we used *input data*, *split ratio* and *registered model name* as input variables. We then call the components and connect them via their inputs/outputs identifiers. The outputs of each step can be accessed via the `.outputs` property."
   ]
  },
  {
   "cell_type": "markdown",
   "metadata": {},
   "source": [
    "Create a pipeline.yml file to describe the structure of the pipeline DAG:"
   ]
  },
  {
   "cell_type": "code",
   "execution_count": 24,
   "metadata": {},
   "outputs": [
    {
     "name": "stdout",
     "output_type": "stream",
     "text": [
      "Writing ./components/pipeline.yml\n"
     ]
    }
   ],
   "source": [
    "%%writefile ./components/pipeline.yml\n",
    "$schema: https://azuremlschemas.azureedge.net/latest/pipelineJob.schema.json\n",
    "type: pipeline\n",
    "\n",
    "display_name: 04a_Pipeline_DataPrep_Train_CLI_Pipeline\n",
    "description: Pipeline with 2 component jobs with data dependencies\n",
    "\n",
    "settings:\n",
    "  default_compute: azureml:cpu-cluster\n",
    "\n",
    "outputs:\n",
    "  final_model:\n",
    "    mode: upload\n",
    "\n",
    "jobs:\n",
    "  component_data_prep:\n",
    "    type: command\n",
    "    component: azureml:data_prep_component@latest\n",
    "    inputs:\n",
    "      data: \n",
    "        type: uri_file\n",
    "        path: azureml:credit_cards@latest\n",
    "      test_train_ratio: 0.25\n",
    "      train_data_csv: train \n",
    "      test_data_csv: test\n",
    "    outputs:\n",
    "      train_data_csv: \n",
    "        mode: upload\n",
    "      test_data_csv: \n",
    "        mode: upload\n",
    "  component_train:\n",
    "    type: command\n",
    "    component: azureml:train_credit_defaults_component@latest\n",
    "    inputs:\n",
    "      train_data_csv: ${{parent.jobs.component_data_prep.outputs.train_data_csv}}\n",
    "      test_data_csv: ${{parent.jobs.component_data_prep.outputs.test_data_csv}}\n",
    "      learning_rate: 0.2\n",
    "      registered_model_name: credit_default_model\n",
    "    outputs:\n",
    "      model: ${{parent.outputs.final_model}}"
   ]
  },
  {
   "cell_type": "code",
   "execution_count": 25,
   "metadata": {},
   "outputs": [
    {
     "name": "stdout",
     "output_type": "stream",
     "text": [
      "Class AutoDeleteSettingSchema: This is an experimental class, and may change at any time. Please see https://aka.ms/azuremlexperimental for more information.\n",
      "Class AutoDeleteConditionSchema: This is an experimental class, and may change at any time. Please see https://aka.ms/azuremlexperimental for more information.\n",
      "Class BaseAutoDeleteSettingSchema: This is an experimental class, and may change at any time. Please see https://aka.ms/azuremlexperimental for more information.\n",
      "Class IntellectualPropertySchema: This is an experimental class, and may change at any time. Please see https://aka.ms/azuremlexperimental for more information.\n",
      "Class ProtectionLevelSchema: This is an experimental class, and may change at any time. Please see https://aka.ms/azuremlexperimental for more information.\n",
      "Class BaseIntellectualPropertySchema: This is an experimental class, and may change at any time. Please see https://aka.ms/azuremlexperimental for more information.\n",
      "{\n",
      "  \"creation_context\": {\n",
      "    \"created_at\": \"2023-11-13T18:50:52.623542+00:00\",\n",
      "    \"created_by\": \"alex zeltov\",\n",
      "    \"created_by_type\": \"User\"\n",
      "  },\n",
      "  \"description\": \"Pipeline with 2 component jobs with data dependencies\",\n",
      "  \"display_name\": \"04a_Pipeline_DataPrep_Train_CLI_Pipeline\",\n",
      "  \"experiment_name\": \"aigbb-aml-bootcamp\",\n",
      "  \"id\": \"azureml:/subscriptions/f1ea6ed8-82f3-416d-881b-8b376218bc85/resourceGroups/rg_aml/providers/Microsoft.MachineLearningServices/workspaces/aml-default/jobs/coral_malanga_w8tsg0j1n4\",\n",
      "  \"jobs\": {\n",
      "    \"component_data_prep\": {\n",
      "      \"component\": \"azureml:azureml_anonymous:57572cc7-c1fe-4163-aa08-685c8791b3a5\",\n",
      "      \"compute\": \"azureml:cpu-cluster\",\n",
      "      \"inputs\": {\n",
      "        \"data\": {\n",
      "          \"path\": \"azureml:/subscriptions/f1ea6ed8-82f3-416d-881b-8b376218bc85/resourceGroups/rg_aml/providers/Microsoft.MachineLearningServices/workspaces/aml-default/data/credit_cards/versions/6\",\n",
      "          \"type\": \"uri_file\"\n",
      "        },\n",
      "        \"test_data_csv\": \"test\",\n",
      "        \"test_train_ratio\": \"0.25\",\n",
      "        \"train_data_csv\": \"train\"\n",
      "      },\n",
      "      \"outputs\": {\n",
      "        \"test_data_csv\": {\n",
      "          \"mode\": \"upload\",\n",
      "          \"type\": \"uri_folder\"\n",
      "        },\n",
      "        \"train_data_csv\": {\n",
      "          \"mode\": \"upload\",\n",
      "          \"type\": \"uri_folder\"\n",
      "        }\n",
      "      },\n",
      "      \"type\": \"command\"\n",
      "    },\n",
      "    \"component_train\": {\n",
      "      \"component\": \"azureml:azureml_anonymous:e0f3de81-62db-4423-bd34-7f6136941446\",\n",
      "      \"compute\": \"azureml:cpu-cluster\",\n",
      "      \"inputs\": {\n",
      "        \"learning_rate\": \"0.2\",\n",
      "        \"registered_model_name\": \"credit_default_model\",\n",
      "        \"test_data_csv\": {\n",
      "          \"path\": \"${{parent.jobs.component_data_prep.outputs.test_data_csv}}\"\n",
      "        },\n",
      "        \"train_data_csv\": {\n",
      "          \"path\": \"${{parent.jobs.component_data_prep.outputs.train_data_csv}}\"\n",
      "        }\n",
      "      },\n",
      "      \"outputs\": {\n",
      "        \"model\": \"${{parent.outputs.final_model}}\"\n",
      "      },\n",
      "      \"type\": \"command\"\n",
      "    }\n",
      "  },\n",
      "  \"name\": \"coral_malanga_w8tsg0j1n4\",\n",
      "  \"outputs\": {\n",
      "    \"final_model\": {\n",
      "      \"mode\": \"upload\",\n",
      "      \"type\": \"uri_folder\"\n",
      "    }\n",
      "  },\n",
      "  \"properties\": {\n",
      "    \"azureml.DatasetAccessMode\": \"Asset\",\n",
      "    \"azureml.DevPlatv2\": \"true\",\n",
      "    \"azureml.continue_on_failed_optional_input\": \"True\",\n",
      "    \"azureml.continue_on_step_failure\": \"True\",\n",
      "    \"azureml.defaultComputeName\": \"cpu-cluster\",\n",
      "    \"azureml.defaultDataStoreName\": \"workspaceblobstore\",\n",
      "    \"azureml.enforceRerun\": \"False\",\n",
      "    \"azureml.git.dirty\": \"True\",\n",
      "    \"azureml.parameters\": \"{}\",\n",
      "    \"azureml.pipelineComponent\": \"pipelinerun\",\n",
      "    \"azureml.runsource\": \"azureml.PipelineRun\",\n",
      "    \"mlflow.source.git.branch\": \"main\",\n",
      "    \"mlflow.source.git.commit\": \"f998304b50ac6ef81a6d8b8c5e46e7cbfbf38601\",\n",
      "    \"mlflow.source.git.repoURL\": \"https://github.com/azeltov/aigbb-aml-bootcamp\",\n",
      "    \"runSource\": \"MFE\",\n",
      "    \"runType\": \"HTTP\"\n",
      "  },\n",
      "  \"resourceGroup\": \"rg_aml\",\n",
      "  \"services\": {\n",
      "    \"Studio\": {\n",
      "      \"endpoint\": \"https://ml.azure.com/runs/coral_malanga_w8tsg0j1n4?wsid=/subscriptions/f1ea6ed8-82f3-416d-881b-8b376218bc85/resourcegroups/rg_aml/workspaces/aml-default&tid=074101a8-2a55-4e54-9b9f-56c83e17cb22\",\n",
      "      \"type\": \"Studio\"\n",
      "    },\n",
      "    \"Tracking\": {\n",
      "      \"endpoint\": \"azureml://eastus.api.azureml.ms/mlflow/v1.0/subscriptions/f1ea6ed8-82f3-416d-881b-8b376218bc85/resourceGroups/rg_aml/providers/Microsoft.MachineLearningServices/workspaces/aml-default?\",\n",
      "      \"type\": \"Tracking\"\n",
      "    }\n",
      "  },\n",
      "  \"settings\": {\n",
      "    \"default_compute\": \"azureml:cpu-cluster\"\n",
      "  },\n",
      "  \"status\": \"Preparing\",\n",
      "  \"type\": \"pipeline\"\n",
      "}\n",
      "\u001b[0m"
     ]
    }
   ],
   "source": [
    "!az ml job create --file ./components/pipeline.yml"
   ]
  },
  {
   "cell_type": "markdown",
   "metadata": {},
   "source": [
    "Now use your pipeline definition to instantiate a pipeline with your dataset, split rate of choice and the name you picked for your model."
   ]
  },
  {
   "cell_type": "markdown",
   "metadata": {},
   "source": [
    "You can track the progress of your pipeline, by using the link generated in the previous cell. When you first select this link, you may see that the pipeline is still running. Once it's complete, you can examine each component's results.\n",
    "\n",
    "Double-click the **Train Credit Defaults Model** component. \n",
    "\n",
    "There are two important results you'll want to see about training:\n",
    "\n",
    "* View your logs:\n",
    "    1. Select the **Outputs+logs** tab.\n",
    "    1. Open the folders to `user_logs` > `std_log.txt`\n",
    "    This section shows the script run stdout.\n",
    "    ![Screenshot of std_log.txt.](media/user-logs.jpg)\n",
    "\n",
    "* View your metrics: Select the **Metrics** tab.  This section shows different logged metrics. In this example. mlflow `autologging`, has automatically logged the training metrics.\n",
    "    \n",
    "    ![Screenshot shows logged metrics.txt.](./media/metrics.jpg)"
   ]
  },
  {
   "cell_type": "markdown",
   "metadata": {},
   "source": [
    "## Deploy the model as an online endpoint\n",
    "To learn how to deploy your model to an online endpoint, see [Deploy a model as an online endpoint tutorial](https://learn.microsoft.com/en-us/azure/machine-learning/tutorial-deploy-model).\n"
   ]
  },
  {
   "cell_type": "markdown",
   "metadata": {},
   "source": [
    "## Next Steps\n",
    "\n",
    "Learn how to [Schedule machine learning pipeline jobs](https://learn.microsoft.com/azure/machine-learning/how-to-schedule-pipeline-job)"
   ]
  }
 ],
 "metadata": {
  "categories": [
   "SDK v2",
   "tutorials",
   "get-started-notebooks"
  ],
  "description": {
   "description": "Create production ML pipelines with Python SDK v2 in a Jupyter notebook"
  },
  "kernel_info": {
   "name": "python310-sdkv2"
  },
  "kernelspec": {
   "display_name": "aigbb-aml-bootcamp",
   "language": "python",
   "name": "python3"
  },
  "language_info": {
   "codemirror_mode": {
    "name": "ipython",
    "version": 3
   },
   "file_extension": ".py",
   "mimetype": "text/x-python",
   "name": "python",
   "nbconvert_exporter": "python",
   "pygments_lexer": "ipython3",
   "version": "3.8.0"
  },
  "nteract": {
   "version": "nteract-front-end@1.0.0"
  }
 },
 "nbformat": 4,
 "nbformat_minor": 4
}
