{
 "cells": [
  {
   "cell_type": "code",
   "execution_count": null,
   "id": "c76642a1-9264-4be0-92ef-79fee490fbcf",
   "metadata": {},
   "outputs": [],
   "source": [
    "import urllib.request\n",
    "import json\n",
    "import os\n",
    "import ssl\n",
    "\n",
    "def allowSelfSignedHttps(allowed):\n",
    "    # bypass the server certificate verification on client side\n",
    "    if allowed and not os.environ.get('PYTHONHTTPSVERIFY', '') and getattr(ssl, '_create_unverified_context', None):\n",
    "        ssl._create_default_https_context = ssl._create_unverified_context\n",
    "\n",
    "allowSelfSignedHttps(True) # this line is needed if you use self-signed certificate in your scoring service.\n",
    "\n",
    "# Request data goes here\n",
    "# The example below assumes JSON formatting which may be updated\n",
    "# depending on the format your endpoint expects.\n",
    "# More information can be found here:\n",
    "# https://docs.microsoft.com/azure/machine-learning/how-to-deploy-advanced-entry-script\n",
    "data =  {\n",
    "  \"input_data\": {\n",
    "    \"columns\": [0,1,2,3,4,5,6,7,8,9,10,11,12,13,14,15,16,17,18,19,20,21,22],\n",
    "    \"index\": [0, 1],\n",
    "    \"data\": [\n",
    "            [20000,2,2,1,24,2,2,-1,-1,-2,-2,3913,3102,689,0,0,0,0,689,0,0,0,0],\n",
    "            [10, 9, 8, 7, 6, 5, 4, 3, 2, 1, 10, 9, 8, 7, 6, 5, 4, 3, 2, 1, 10, 9, 8]\n",
    "        ]\n",
    "  }\n",
    "}\n",
    "\n",
    "def callCreditScoreModel(data, convert_json=True):\n",
    "    if convert_json:\n",
    "        data = json.dumps(data)\n",
    "    body = str.encode(data)\n",
    "\n",
    "    url = 'https://credit-defaults-model-21.eastus.inference.ml.azure.com/score'\n",
    "    # Replace this with the primary/secondary key or AMLToken for the endpoint\n",
    "    api_key = 'zjk4gbk2t5PeNR4QM8xz9lfWe8sBYv4d'\n",
    "    if not api_key:\n",
    "        raise Exception(\"A key should be provided to invoke the endpoint\")\n",
    "\n",
    "    # The azureml-model-deployment header will force the request to go to a specific deployment.\n",
    "    # Remove this header to have the request observe the endpoint traffic rules\n",
    "    headers = {'Content-Type':'application/json', 'Authorization':('Bearer '+ api_key), 'azureml-model-deployment': 'blue' }\n",
    "\n",
    "    req = urllib.request.Request(url, body, headers)\n",
    "\n",
    "    try:\n",
    "        response = urllib.request.urlopen(req)\n",
    "\n",
    "        result = response.read()\n",
    "        return result\n",
    "    except urllib.error.HTTPError as error:\n",
    "        print(\"The request failed with status code: \" + str(error.code))\n",
    "\n",
    "        # Print the headers - they include the requert ID and the timestamp, which are useful for debugging the failure\n",
    "        print(error.info())\n",
    "        print(error.read().decode(\"utf8\", 'ignore'))\n"
   ]
  },
  {
   "cell_type": "code",
   "execution_count": null,
   "id": "c93acce3-7a59-4f19-961b-e9851ba04f98",
   "metadata": {},
   "outputs": [],
   "source": [
    "result = callCreditScoreModel(data)\n",
    "print(result)\n"
   ]
  },
  {
   "cell_type": "markdown",
   "id": "9777e7da-c1e2-4457-8ba0-9f03f9fbc8da",
   "metadata": {},
   "source": [
    "# Generate Synthetic Data For Data Drift "
   ]
  },
  {
   "cell_type": "code",
   "execution_count": null,
   "id": "e45277ad-7f10-4b8c-9006-f293cc368028",
   "metadata": {},
   "outputs": [],
   "source": [
    "from azure.ai.ml import MLClient\n",
    "from azure.identity import DefaultAzureCredential\n",
    "from azure.ai.ml.entities import Data\n",
    "from azure.ai.ml.constants import AssetTypes\n",
    "\n",
    "import os \n",
    "from dotenv import load_dotenv\n",
    "\n",
    "# load the environment variables from .env\n",
    "load_dotenv()\n",
    "\n",
    "# authenticate\n",
    "credential = DefaultAzureCredential()\n",
    "\n",
    "# Get a handle to the workspace\n",
    "ml_client = MLClient(\n",
    "    credential=credential,\n",
    "    subscription_id = os.environ.get('SUBSCRIPTION_ID'),\n",
    "    resource_group_name = os.environ.get('RESOURCE_GROUP_NAME'),\n",
    "    workspace_name = os.environ.get('WORKSPACE_NAME'),\n",
    ")"
   ]
  },
  {
   "cell_type": "code",
   "execution_count": null,
   "id": "cfdb0984-24a4-4279-b36f-a57815d7375b",
   "metadata": {},
   "outputs": [],
   "source": [
    "import pandas as pd\n",
    "\n",
    "# get a handle of the data asset and print the URI\n",
    "v1=\"2023.09.06.135022\"\n",
    "data_asset = ml_client.data.get(name=\"credit-card\", version=v1)\n",
    "print(f\"Data asset URI: {data_asset.path}\")\n",
    "\n",
    "# read into pandas - note that you will see 2 headers in your data frame - that is ok, for now\n",
    "\n",
    "df = pd.read_csv(data_asset.path, skiprows=1)\n",
    "df.head()"
   ]
  },
  {
   "cell_type": "code",
   "execution_count": null,
   "id": "4f7c8bc4-320e-4597-9ea1-6e27e7f4032a",
   "metadata": {},
   "outputs": [],
   "source": [
    "import numpy as np\n",
    "import random\n",
    "# Step 1: Select the column\n",
    "age_column = df['AGE']\n",
    "\n",
    "# Step 2: Apply a function to each value\n",
    "def add_subtract_one_random(x):\n",
    "    yr= 1 if random.random() < 0.5 else -1\n",
    "    return (x+yr)\n",
    "\n",
    "new_age_column = age_column.apply(add_subtract_one_random)\n",
    "# Step 3: Assign the new values back to the column\n",
    "df['AGE'] = new_age_column\n",
    "df.head()"
   ]
  },
  {
   "cell_type": "code",
   "execution_count": null,
   "id": "6e619f59-bc09-4c03-9020-1f47354c5d97",
   "metadata": {},
   "outputs": [],
   "source": [
    "def random_pay(x):\n",
    "    if x == 2:\n",
    "        return 1\n",
    "    elif x == -2:\n",
    "        return -1\n",
    "    else:\n",
    "        y= 1 if random.random() < 0.5 else -1\n",
    "        return (x+y)\n",
    "df['PAY_0'] = df['PAY_0'].apply(random_pay)\n",
    "df['PAY_2'] = df['PAY_2'].apply(random_pay)\n",
    "df['PAY_3'] = df['PAY_3'].apply(random_pay)\n",
    "df['PAY_4'] = df['PAY_4'].apply(random_pay)\n",
    "df['PAY_5'] = df['PAY_5'].apply(random_pay)\n",
    "df['PAY_6'] = df['PAY_6'].apply(random_pay)\n",
    "df.head()"
   ]
  },
  {
   "cell_type": "code",
   "execution_count": null,
   "id": "52ca61ca-b06d-4b0b-a4c5-d3cb0f70bb59",
   "metadata": {},
   "outputs": [],
   "source": [
    "from random import randint\n",
    "def random_bill_amt(x):\n",
    "    if x == 0:\n",
    "        return 0\n",
    "    else:\n",
    "        y = randint(1, 100) \n",
    "        return (x+y)\n",
    "\n",
    "df['BILL_AMT1'] = df['BILL_AMT1'].apply(random_bill_amt)\n",
    "df['BILL_AMT2'] = df['BILL_AMT2'].apply(random_bill_amt)\n",
    "df['BILL_AMT3'] = df['BILL_AMT3'].apply(random_bill_amt)\n",
    "df['BILL_AMT4'] = df['BILL_AMT4'].apply(random_bill_amt)\n",
    "df['BILL_AMT5'] = df['BILL_AMT5'].apply(random_bill_amt)\n",
    "df['BILL_AMT6'] = df['BILL_AMT6'].apply(random_bill_amt)\n",
    "df.head()"
   ]
  },
  {
   "cell_type": "code",
   "execution_count": null,
   "id": "c415294d-4eb5-400d-8e0d-13482007359c",
   "metadata": {},
   "outputs": [],
   "source": [
    "df['PAY_AMT1'] = df['PAY_AMT1'].apply(random_bill_amt)\n",
    "df['PAY_AMT2'] = df['PAY_AMT2'].apply(random_bill_amt)\n",
    "df['PAY_AMT3'] = df['PAY_AMT3'].apply(random_bill_amt)\n",
    "df['PAY_AMT4'] = df['PAY_AMT4'].apply(random_bill_amt)\n",
    "df['PAY_AMT5'] = df['PAY_AMT5'].apply(random_bill_amt)\n",
    "df['PAY_AMT6'] = df['PAY_AMT6'].apply(random_bill_amt)"
   ]
  },
  {
   "cell_type": "code",
   "execution_count": null,
   "id": "553fb47f-fee4-4afb-bbf3-caab79fc8faf",
   "metadata": {},
   "outputs": [],
   "source": [
    "df.head()"
   ]
  },
  {
   "cell_type": "code",
   "execution_count": null,
   "id": "fc75418e-c9ac-4153-9136-ad7bac2ed84b",
   "metadata": {},
   "outputs": [],
   "source": [
    "data =  {\n",
    "  \"input_data\": {\n",
    "    \"columns\": [0,1,2,3,4,5,6,7,8,9,10,11,12,13,14,15,16,17,18,19,20,21,22],\n",
    "    \"index\": [0],\n",
    "    \"data\": [\n",
    "        [20000, 2, 2, 1, 23, 1, 1, -2, -2, -1, -1, 3920, 3157, 781, 0, 0, 0, 0, 746, 0, 0, 0, 0]\n",
    "        ]\n",
    "  }\n",
    "}\n",
    "callCreditScoreModel(data)"
   ]
  },
  {
   "cell_type": "code",
   "execution_count": null,
   "id": "872799b6-d62e-417b-81be-f3fdbbda3e11",
   "metadata": {},
   "outputs": [],
   "source": [
    "print(df.columns)"
   ]
  },
  {
   "cell_type": "code",
   "execution_count": null,
   "id": "6d970110-071c-47d9-b5bc-48a9df5fc4b9",
   "metadata": {},
   "outputs": [],
   "source": [
    "import pandas as pd\n",
    "import re\n",
    "#df = df.reset_index()  # make sure indexes pair with number of rows\n",
    "#                [row['SEX'], row['EDUCATION'], row['MARRIAGE'], row['AGE'], row['PAY_0'], row['PAY_2'], row['PAY_3'], row['PAY_4'], row['PAY_5'], row['BILL_AMT1'], row['BILL_AMT2'], row['BILL_AMT3'],row['BILL_AMT4'], row['BILL_AMT5'], row['BILL_AMT6'],row['PAY_AMT1'], row['PAY_AMT3'], row['PAY_AMT4'], row['PAY_AMT5'], row['PAY_AMT6']]\n",
    "data1 = \"\"\" {\n",
    "  \"input_data\": {\n",
    "    \"columns\": [0,1,2,3,4,5,6,7,8,9,10,11,12,13,14,15,16,17,18,19,20,21,22],\n",
    "    \"index\": [0],\n",
    "    \"data\": [\n",
    "        [\n",
    "    \"\"\"\n",
    "\n",
    "data2 = \"\"\"\n",
    "        ]\n",
    "            ]\n",
    "  }\n",
    "} \"\"\"    \n",
    " \n",
    "for index, row in df.iterrows():\n",
    "    data = f\"\"\"\n",
    "    {row['LIMIT_BAL']},{row['SEX']},{row['EDUCATION']},{row['MARRIAGE']},{row['AGE']},{row['PAY_0']},{row['PAY_2']}, {row['PAY_3']}, {row['PAY_4']}, {row['PAY_5']}, {row['PAY_6']}, {row['BILL_AMT1']}, {row['BILL_AMT2']}, {row['BILL_AMT3']},{row['BILL_AMT4']}, {row['BILL_AMT5']}, {row['BILL_AMT6']},{row['PAY_AMT1']},{row['PAY_AMT2']}, {row['PAY_AMT3']}, {row['PAY_AMT4']}, {row['PAY_AMT5']}, {row['PAY_AMT6']}\n",
    "    \"\"\"\n",
    "    payload= (data1 + data + data2)\n",
    "    clean_payload = re.sub(r\"[\\n\\t\\s]*\", \"\", payload)\n",
    "    result = callCreditScoreModel(clean_payload,convert_json=False)\n",
    "\n",
    "    if (index % 500) == 0:\n",
    "        print(f\"====={index}==============\")\n",
    "        print(clean_payload)\n",
    "        print(result)\n",
    "               \n"
   ]
  },
  {
   "cell_type": "code",
   "execution_count": null,
   "id": "65a75367-65cb-4abf-8d7f-a978b3015b4a",
   "metadata": {},
   "outputs": [],
   "source": []
  }
 ],
 "metadata": {
  "language_info": {
   "name": "python"
  }
 },
 "nbformat": 4,
 "nbformat_minor": 5
}
