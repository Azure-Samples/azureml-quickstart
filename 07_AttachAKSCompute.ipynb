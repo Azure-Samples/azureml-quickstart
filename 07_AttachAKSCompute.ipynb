{
 "cells": [
  {
   "cell_type": "code",
   "execution_count": 2,
   "metadata": {},
   "outputs": [
    {
     "name": "stderr",
     "output_type": "stream",
     "text": [
      "WARNING: Merged \"aml_attach_cluster\" as current context in C:\\Users\\antonslutsky\\.kube\\config\n"
     ]
    }
   ],
   "source": [
    "!az aks get-credentials --resource-group antonslutsky-rg --name aml_attach_cluster"
   ]
  },
  {
   "cell_type": "code",
   "execution_count": 3,
   "metadata": {},
   "outputs": [
    {
     "name": "stdout",
     "output_type": "stream",
     "text": [
      "NAME                                STATUS   ROLES   AGE     VERSION\n",
      "aks-agentpool-56138681-vmss000000   Ready    agent   2m49s   v1.28.9\n",
      "aks-agentpool-56138681-vmss000001   Ready    agent   2m49s   v1.28.9\n",
      "aks-userpool-56138681-vmss000000    Ready    agent   2m50s   v1.28.9\n",
      "aks-userpool-56138681-vmss000001    Ready    agent   2m40s   v1.28.9\n"
     ]
    }
   ],
   "source": [
    "!kubectl get nodes"
   ]
  }
 ],
 "metadata": {
  "kernelspec": {
   "display_name": "many_models",
   "language": "python",
   "name": "python3"
  },
  "language_info": {
   "codemirror_mode": {
    "name": "ipython",
    "version": 3
   },
   "file_extension": ".py",
   "mimetype": "text/x-python",
   "name": "python",
   "nbconvert_exporter": "python",
   "pygments_lexer": "ipython3",
   "version": "3.7.6"
  }
 },
 "nbformat": 4,
 "nbformat_minor": 2
}
