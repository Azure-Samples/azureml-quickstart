{
 "cells": [
  {
   "cell_type": "markdown",
   "id": "14ceddc7",
   "metadata": {},
   "source": [
    "# Tutorial: Debugging the Cluster Environment"
   ]
  },
  {
   "cell_type": "markdown",
   "id": "3b5cc6ce",
   "metadata": {},
   "source": [
    "Real-world applications of Machine Learning pipelines are often complicated, require multiple dependencies and are often sensitive to environment conditions such as library versions, operating system type and other runtime settings.  While the Azure Machine Learning platform provides a number or ways to standardize environment including:\n",
    "\n",
    "- Azure Container Repository (ACR)\n",
    "- Conda requirements management\n",
    "- Github integrations\n",
    "\n",
    "it is sometimes necessary to investigate issues in the later stages of production pipeline.\n",
    "\n",
    "In this tutorial, you will learn how to:\n",
    "- Navigate pipeline Job components\n",
    "- Access individual Job component Compute nodes\n",
    "- Install Job-related Docker images using ACR\n",
    "- Update Job environment re-submit failed jobs \n",
    "\n",
    "This tutorial is applicable to all stages of the AML Pipeline, but will likely be more useful in the Outer Loop stages.\n",
    "\n",
    "The next image shows a simple pipeline as you'll see it in the Azure studio once submitted.\n",
    "\n",
    "![Screenshot that shows the AML Pipeline](https://github.com/azeltov/aigbb-aml-bootcamp/assets/5873303/e0575c72-2c32-4c83-9660-82c34993027b \"Overview of the pipeline\")\n"
   ]
  },
  {
   "cell_type": "markdown",
   "id": "f34d9de6",
   "metadata": {},
   "source": [
    "## Navigate pipeline Job components "
   ]
  },
  {
   "cell_type": "markdown",
   "id": "f52aff44",
   "metadata": {},
   "source": [
    "Whether executing an indidual ML Component or running a complex pipeline, Azure Machine Learning platform uses the Job abstraction to encapsulate Azure Compute resources.  \n",
    "\n",
    "When debugging a failed job, the first step is to identify the Compute resource responsible for the failure being debugged.  \n",
    "\n",
    "Navigate to the Jobs section of the Azure Machine Learning Studio workspace:\n",
    "\n",
    "<div>\n",
    "<img src=\"./media/select_job_1.png\" height=\"400\"/>\n",
    "</div>"
   ]
  },
  {
   "cell_type": "markdown",
   "id": "7020d671",
   "metadata": {},
   "source": [
    "The Jobs section of the workspace contains the list of failed and completed jobs:\n",
    "![Start compute](./media/inspect_jobs.png)"
   ]
  },
  {
   "cell_type": "markdown",
   "id": "491ab0a9",
   "metadata": {},
   "source": [
    "To understand the reasons for job failure, it is first necessary to understand the type of job that is being executed.  Recalling from previous exercises (03b_ReTrain_Model.ipynb), a Job may be started via the following Python API snippet.\n",
    "\n",
    "<div>\n",
    "<img src=\"./media/cluster_job_invoke.png\" height=\"400\"/>\n",
    "</div>\n"
   ]
  },
  {
   "cell_type": "markdown",
   "id": "6479ad5d",
   "metadata": {},
   "source": [
    "The highlighted area draws attention to the type of command for this particular Job as well as type of Compute resource that is required.  In the example above, a cluster-bound job is created aimed at the \"cpu-cluster\" Compuate resource."
   ]
  },
  {
   "cell_type": "markdown",
   "id": "a7da7039",
   "metadata": {},
   "source": [
    "## Access individual Job component Compute nodes"
   ]
  },
  {
   "cell_type": "markdown",
   "id": "accf8bf1",
   "metadata": {},
   "source": [
    "Azure Machine Learning cluster environments are transient and do not retain their runtime context upon job completion regardless of the state.  In order to access an individual cluster node to perform debug actions, it is necessary to augment the job starting script to include an artificial timeout to retain cluster runtime context.\n",
    "\n",
    "In order to retain the runtime environment for debug purposes, cluster job must be started with an artificial shutdown delay.  This may be done by adding a \"sleep\" snipped (highlighted in red) to the job command line.\n",
    "\n",
    "<div>\n",
    "<img src=\"./media/cluster_job_invoke.png\" height=\"400\"/>\n",
    "</div>\n"
   ]
  },
  {
   "cell_type": "markdown",
   "id": "d0db1295",
   "metadata": {},
   "source": [
    "Once the augmented job is started, cluster environment will persist for the additional 3600 seconds after the job fails or completes.\n",
    "\n",
    "It is now possible to inspect the cluster by navigating to the cluster nodes.  To do so, from the Azure Machine Learning studio, click on Compute and then select the Clusters tab:\n",
    "\n",
    "<div>\n",
    "<img src=\"./media/navigate_to_cluster.png\" height=\"400\"/>\n",
    "</div>\n",
    "\n",
    "then select the target cluster (e.g.: \"cpu-compute\")\n",
    "\n",
    "<div>\n",
    "<img src=\"./media/drilldown_cluster.png\" height=\"400\"/>\n",
    "</div>\n",
    "\n",
    "and click on the Nodes tab:\n",
    "\n",
    "<div>\n",
    "<img src=\"./media/select_nodes.png\" height=\"400\"/>\n",
    "</div>"
   ]
  },
  {
   "cell_type": "markdown",
   "id": "06ad8a74",
   "metadata": {},
   "source": []
  },
  {
   "cell_type": "markdown",
   "id": "8b585e0a",
   "metadata": {},
   "source": [
    "Cluster nodes should be in the running state.  Select a cluster node:\n",
    "\n",
    "<div>\n",
    "<img src=\"./media/click_node_id.png\" height=\"400\"/>\n",
    "</div>\n"
   ]
  },
  {
   "cell_type": "markdown",
   "id": "c160d7fb",
   "metadata": {},
   "source": [
    "Select Output+Logs to view job output and error messages:\n",
    "\n",
    "<div>\n",
    "<img src=\"./media/select_logs.png\" height=\"400\"/>\n",
    "</div>"
   ]
  },
  {
   "cell_type": "markdown",
   "id": "7b3a1c6a",
   "metadata": {},
   "source": [
    "The resulting screen will display job output logs:\n",
    "\n",
    "<div>\n",
    "<img src=\"./media/view_logs.png\" height=\"400\"/>\n",
    "</div>"
   ]
  },
  {
   "cell_type": "markdown",
   "id": "1f7a7c57",
   "metadata": {},
   "source": [
    "## Install Job-related Docker images using ACR"
   ]
  },
  {
   "cell_type": "markdown",
   "id": "781eff20",
   "metadata": {},
   "source": [
    "To reproduce a failing envoronment in a local environment or on compute instance, it is necessary to install the corresponding Docker image that was used during job instantiation.  \n",
    "\n",
    "To identify the docker image used during a job execution, navigate to the Jobs section of the Azure ML Workspace and click on the Environment link:\n",
    "\n",
    "<div>\n",
    "<img src=\"./media/docker_step_1.png\" height=\"400\"/>\n",
    "</div>\n",
    "\n",
    "The resulting screen will contain the Docker repository and image id information necessary to download and install the Docker environment locally:\n",
    "\n",
    "<div>\n",
    "<img src=\"./media/docker_overview.png\" height=\"400\"/>\n",
    "</div>\n"
   ]
  },
  {
   "cell_type": "markdown",
   "id": "5b54c75e",
   "metadata": {},
   "source": [
    "1. Azure Container Registry (ACR) URI \n",
    "2. ACR repository-specific Docker image id\n",
    "3. Parent Docker image id"
   ]
  },
  {
   "cell_type": "markdown",
   "id": "3865332d",
   "metadata": {},
   "source": [
    "### Pulling Docker Image"
   ]
  },
  {
   "cell_type": "markdown",
   "id": "59a71848",
   "metadata": {},
   "source": [
    "Log in to the ACR repository using the Azure container registry URI (#1 above)"
   ]
  },
  {
   "cell_type": "code",
   "execution_count": null,
   "id": "d63ba231",
   "metadata": {},
   "outputs": [],
   "source": [
    "!docker login 228a5fafb10849f1aca62709336183e6.azurecr.io"
   ]
  },
  {
   "cell_type": "markdown",
   "id": "9d96bbe1",
   "metadata": {},
   "source": [
    "Next, pull the image using the full Azure Container Registry URI"
   ]
  },
  {
   "cell_type": "code",
   "execution_count": null,
   "id": "63f0e3d0",
   "metadata": {},
   "outputs": [],
   "source": [
    "!docker pull 228a5fafb10849f1aca62709336183e6.azurecr.io/azureml/azureml_56f11dd12f51eee236626b86f8bec2eb"
   ]
  },
  {
   "cell_type": "markdown",
   "id": "15382ede",
   "metadata": {},
   "source": [
    "Verify image pull:"
   ]
  },
  {
   "cell_type": "code",
   "execution_count": null,
   "id": "652631e4",
   "metadata": {},
   "outputs": [],
   "source": [
    "!docker images"
   ]
  },
  {
   "cell_type": "markdown",
   "id": "c2a69b29",
   "metadata": {},
   "source": [
    "It is now possible to start the pulled image from command line terminal using the following command:"
   ]
  },
  {
   "cell_type": "markdown",
   "id": "b8144f99",
   "metadata": {},
   "source": [
    "<div>\n",
    "<img src=\"./media/execute_docker_commands.png\" height=\"400\"/>\n",
    "</div>"
   ]
  },
  {
   "cell_type": "markdown",
   "id": "6c7e7c8c",
   "metadata": {},
   "source": [
    "## Update Job environment re-submit failed jobs"
   ]
  },
  {
   "cell_type": "markdown",
   "id": "8df71f3d",
   "metadata": {},
   "source": [
    "Common environment issues often result from dependency version inconsistencies.  To address version consistency, Azure Machine Learning platform uses Conda virtual environment for dependency management."
   ]
  },
  {
   "cell_type": "markdown",
   "id": "cfee16f0",
   "metadata": {},
   "source": [
    "Azure Machine Learning API accepts environment configuration through a customizable conda.yml file of form:"
   ]
  },
  {
   "cell_type": "markdown",
   "id": "fb6a8e0b",
   "metadata": {},
   "source": [
    "name: model-env\n",
    "channels:\n",
    "  - conda-forge\n",
    "dependencies:\n",
    "  - python=3.8\n",
    "  - numpy=1.21.2\n",
    "  - pip=21.2.4\n",
    "  - scikit-learn=0.24.2\n",
    "  - scipy=1.7.1\n",
    "  - pandas>=1.1,<1.2\n",
    "  - pip:\n",
    "    - inference-schema[numpy-support]==1.3.0\n",
    "    - mlflow== 1.26.1\n",
    "    - azureml-mlflow==1.42.0\n",
    "    - psutil>=5.8,<5.9\n",
    "    - tqdm>=4.59,<4.60\n",
    "    - ipykernel~=6.0\n",
    "    - matplotlib\n",
    "    - pyarrow\n"
   ]
  },
  {
   "cell_type": "markdown",
   "id": "cebf3c69",
   "metadata": {},
   "source": [
    "Users of the platform may provide custom versions of the Conda configuration by specifying a custom file path during environment configuration.  "
   ]
  },
  {
   "cell_type": "code",
   "execution_count": null,
   "id": "0c2d3de6",
   "metadata": {},
   "outputs": [],
   "source": [
    "dependencies_dir = \"dependencies\""
   ]
  },
  {
   "cell_type": "code",
   "execution_count": null,
   "id": "004ee424",
   "metadata": {},
   "outputs": [],
   "source": [
    "%%writefile {dependencies_dir}/my_custom_conda.yml\n",
    "name: model-env\n",
    "channels:\n",
    "  - conda-forge\n",
    "dependencies:\n",
    "  - python=3.8\n",
    "  - numpy=1.21.2\n",
    "  - pip:\n",
    "    - inference-schema[numpy-support]==1.3.0\n",
    "    - azureml-mlflow==1.42.0"
   ]
  },
  {
   "cell_type": "code",
   "execution_count": null,
   "id": "b26e0437",
   "metadata": {},
   "outputs": [],
   "source": [
    "import os\n",
    "from dotenv import load_dotenv\n",
    "\n",
    "# load the environment variables from .env\n",
    "load_dotenv()"
   ]
  },
  {
   "cell_type": "code",
   "execution_count": null,
   "id": "fe9d66b3",
   "metadata": {},
   "outputs": [],
   "source": [
    "from azure.ai.ml import MLClient\n",
    "from azure.identity import DefaultAzureCredential\n",
    "\n",
    "# authenticate\n",
    "credential = DefaultAzureCredential()\n",
    "# # Get a handle to the workspace\n",
    "ml_client = MLClient(\n",
    "    credential=credential,\n",
    "    subscription_id = os.environ.get('SUBSCRIPTION_ID'),\n",
    "    resource_group_name = os.environ.get('RESOURCE_GROUP_NAME'),\n",
    "    workspace_name = os.environ.get('WORKSPACE_NAME'),\n",
    ")"
   ]
  },
  {
   "cell_type": "code",
   "execution_count": null,
   "id": "b717fa08",
   "metadata": {},
   "outputs": [],
   "source": [
    "from azure.ai.ml.entities import Environment\n",
    "\n",
    "my_custom_env_name = \"my-custom-credit-card-scikit-38\"\n",
    "\n",
    "my_custom_job_env = Environment(\n",
    "    name= my_custom_env_name,\n",
    "    description=\"Custom environment for Credit Card Defaults job\",\n",
    "    tags={\"scikit-learn\": \"0.24.2\"},\n",
    "    conda_file=os.path.join(dependencies_dir, \"my_custom_conda.yml\"),\n",
    "    image=\"mcr.microsoft.com/azureml/openmpi3.1.2-ubuntu18.04:latest\",\n",
    ")\n",
    "my_custom_job_env = ml_client.environments.create_or_update(my_custom_job_env)\n",
    "\n",
    "print(\n",
    "    f\"Environment with name {my_custom_job_env.name} is registered to workspace, the environment version is {my_custom_job_env.version}\"\n",
    ")"
   ]
  },
  {
   "cell_type": "markdown",
   "id": "3d45586a",
   "metadata": {},
   "source": [
    "Failed jobs may be re-submitted via the execute command:"
   ]
  },
  {
   "cell_type": "code",
   "execution_count": null,
   "id": "f5f3c2a4",
   "metadata": {},
   "outputs": [],
   "source": [
    "from azure.ai.ml import command\n",
    "from azure.ai.ml import Input\n",
    "\n",
    "registered_model_name = \"credit_defaults_model\"\n",
    "environment_name= my_custom_job_env.name + \"@latest\" \n",
    "job = command(\n",
    "    inputs=dict(\n",
    "        data=Input(\n",
    "            type=\"uri_file\",\n",
    "            #path=\"azureml://subscriptions/f1ea6ed8-82f3-416d-881b-8b376218bc85/resourcegroups/rg_aml/workspaces/aml-default/datastores/workspaceblobstore/paths/LocalUpload/4b1dfc4d12429b46389cabdf25b886a2/default_of_credit_card_clients.csv\",\n",
    "            #path=\"https://azuremlexamples.blob.core.windows.net/datasets/credit_card/default_of_credit_card_clients.csv\",\n",
    "            path=\"azureml:credit-card_csv:2023.10.05.154542\",\n",
    "        ),\n",
    "        test_train_ratio=0.2,\n",
    "        learning_rate=0.25,\n",
    "        registered_model_name=registered_model_name,\n",
    "    ),\n",
    "    code=\"./src/\",  # location of source code\n",
    "    command=\"python main.py \\\n",
    "        --data ${{inputs.data}} \\\n",
    "        --test_train_ratio ${{inputs.test_train_ratio}} \\\n",
    "        --learning_rate ${{inputs.learning_rate}} \\\n",
    "        --registered_model_name \\\n",
    "        ${{inputs.registered_model_name}}\",\n",
    "    environment = environment_name, ## Custom environment injection\n",
    "    compute=\"cpu-cluster\",\n",
    "    display_name=\"03a_train_model_credit_default_prediction\",\n",
    ")"
   ]
  }
 ],
 "metadata": {},
 "nbformat": 4,
 "nbformat_minor": 5
}
