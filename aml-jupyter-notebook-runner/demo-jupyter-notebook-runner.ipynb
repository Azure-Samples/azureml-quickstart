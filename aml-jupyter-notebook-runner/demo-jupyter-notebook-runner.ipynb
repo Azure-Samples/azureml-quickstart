{
 "cells": [
  {
   "cell_type": "markdown",
   "metadata": {},
   "source": [
    "### Create a single step job that runs command: papermill -k python train.ipynb\n",
    "\n"
   ]
  },
  {
   "cell_type": "code",
   "execution_count": null,
   "metadata": {},
   "outputs": [],
   "source": [
    "!az ml job create -f job.yml"
   ]
  },
  {
   "cell_type": "markdown",
   "metadata": {},
   "source": [
    "### Create an aml pipeline that runs multi-notebooks:\n"
   ]
  },
  {
   "cell_type": "code",
   "execution_count": null,
   "metadata": {},
   "outputs": [],
   "source": [
    "!az ml job create -f pipeline.yml"
   ]
  },
  {
   "cell_type": "markdown",
   "metadata": {},
   "source": [
    "Schedule the created aml pipeline:\n",
    "\n",
    "az ml schedule create --file schedule.yml --subscription xxxx-xxxx-xxxx-xxxx --resource-group rg_aml --workspace-name aml-default\n",
    "\n",
    "List Scheduled jobs:\n",
    "\n",
    "az ml schedule list --subscription xxxx-xxxx-xxxx-xxxx --resource-group rg_aml --workspace-name aml-default\n",
    "\n",
    "Disable the scheduled pipeline job:\n",
    "\n",
    "az ml schedule disable --name simple_cron_job_schedule --subscription xxxx-xxxx-xxxx-xxxx --resource-group rg_aml --workspace-name aml-default\n",
    "\n",
    "Delete the scheduled job:\n",
    "\n",
    "az ml schedule delete --name simple_cron_job_schedule --subscription xxxx-xxxx-xxxx-xxxx --resource-group rg_aml --workspace-name aml-default\n",
    "\n"
   ]
  },
  {
   "cell_type": "code",
   "execution_count": null,
   "metadata": {},
   "outputs": [],
   "source": []
  }
 ],
 "metadata": {
  "language_info": {
   "name": "python"
  }
 },
 "nbformat": 4,
 "nbformat_minor": 2
}
