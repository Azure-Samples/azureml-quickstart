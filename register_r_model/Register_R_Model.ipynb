{
 "cells": [
  {
   "cell_type": "code",
   "execution_count": null,
   "metadata": {},
   "outputs": [],
   "source": [
    "%pip install rpy2"
   ]
  },
  {
   "cell_type": "code",
   "execution_count": null,
   "metadata": {},
   "outputs": [],
   "source": [
    "%env R_HOME=C:\\Program Files\\R\\R-4.3.3"
   ]
  },
  {
   "cell_type": "code",
   "execution_count": null,
   "metadata": {},
   "outputs": [],
   "source": [
    "import numpy as np\n",
    "\n",
    "import rpy2.robjects as robjects\n",
    "from rpy2.robjects import numpy2ri\n",
    "from rpy2.robjects.packages import importr\n",
    "\n",
    "r = robjects.r\n",
    "numpy2ri.activate()\n",
    "\n",
    "class Model(object):\n",
    "    \"\"\"\n",
    "    R Model Loader\n",
    "\n",
    "    Attributes\n",
    "    ----------\n",
    "    model : R object\n",
    "    \"\"\"\n",
    "\n",
    "    def __init__(self):\n",
    "        self.model = None\n",
    "\n",
    "    def load(self, path):\n",
    "        model_rds_path = \"{}.rds\".format(path)\n",
    "        model_dep_path = \"{}.dep\".format(path)\n",
    "\n",
    "        self.model = r.readRDS(model_rds_path)\n",
    "\n",
    "        with open(model_dep_path, \"rt\") as f:\n",
    "            model_dep_list = [importr(dep.strip())\n",
    "                              for dep in f.readlines()\n",
    "                              if dep.strip()!='']\n",
    "\n",
    "        return self\n",
    "\n",
    "    def predict(self, X):\n",
    "        \"\"\"\n",
    "        Perform classification on samples in X.\n",
    "        \n",
    "        Parameters\n",
    "        ----------\n",
    "        X : array, shape (n_samples, n_features)\n",
    "        Returns\n",
    "        -------\n",
    "        pred_probs : array, shape (n_samples, probs)\n",
    "        \"\"\"\n",
    "\n",
    "        if self.model is None:\n",
    "            raise Exception(\"There is no Model\")\n",
    "        \n",
    "        if type(X) is not np.ndarray:\n",
    "            X = np.array(X)\n",
    "\n",
    "        pred = r.predict(self.model, X)\n",
    "        print(\"pred:\", pred)\n",
    "        probs = r.attr(pred, \"probabilities\")\n",
    "        print(\"Probs:\", probs)\n",
    "\n",
    "        return np.array(probs)\n"
   ]
  },
  {
   "cell_type": "code",
   "execution_count": null,
   "metadata": {},
   "outputs": [],
   "source": [
    "import numpy as np\n",
    "\n",
    "# Constants\n",
    "MODEL_PATH = \"./svm_model/artifact\"\n",
    "\n",
    "# Example Input\n",
    "X = np.array([[5.1, 3.5, 1.4, 0.2], # setosa\n",
    "              [5.9, 3.0, 5.1, 1.8]])  # virginica\n",
    "\n",
    "# Example Run\n",
    "model = Model().load(MODEL_PATH)\n",
    "print(model)\n",
    "pred = model.predict(X)\n",
    "\n",
    "# Example output\n",
    "pred.shape"
   ]
  },
  {
   "cell_type": "code",
   "execution_count": null,
   "metadata": {},
   "outputs": [],
   "source": [
    "# Load training and test datasets\n",
    "from sys import version_info\n",
    "import sklearn\n",
    "import mlflow.pyfunc\n",
    "\n",
    "\n",
    "PYTHON_VERSION = \"{major}.{minor}.{micro}\".format(major=version_info.major,\n",
    "                                                  minor=version_info.minor,\n",
    "                                                  micro=version_info.micro)\n",
    "\n",
    "# Train and save an SKLearn model\n",
    "r_model_path = \"./svm_model/artifact\"\n",
    "\n",
    "artifacts = {\n",
    "    \"model_rds_path\" : \"{}.rds\".format(r_model_path),\n",
    "    \"model_dep_path\" : \"{}.dep\".format(r_model_path)\n",
    "}\n",
    "\n",
    "# create wrapper\n",
    "class SKLearnWrapper(mlflow.pyfunc.PythonModel):\n",
    "\n",
    "    def load_context(self, context):\n",
    "\n",
    "        self.model = r.readRDS(context.artifacts[\"model_rds_path\"])\n",
    "\n",
    "        with open(context.artifacts[\"model_rds_path\"], \"rt\") as f:\n",
    "            model_dep_list = [importr(dep.strip())\n",
    "                              for dep in f.readlines()\n",
    "                              if dep.strip()!='']\n",
    "\n",
    "        return self\n",
    "        \n",
    "    \n",
    "    def predict(self, model, data):\n",
    "        if self.model is None:\n",
    "            raise Exception(\"There is no Model\")\n",
    "        \n",
    "        if type(X) is not np.ndarray:\n",
    "            X = np.array(X)\n",
    "\n",
    "        pred = r.predict(self.model, X)\n",
    "        print(\"pred:\", pred)\n",
    "        probs = r.attr(pred, \"probabilities\")\n",
    "        print(\"Probs:\", probs)\n",
    "\n",
    "        return np.array(probs)\n",
    "\n",
    "        # return self.sklearn_model.predict(data)"
   ]
  },
  {
   "cell_type": "code",
   "execution_count": null,
   "metadata": {},
   "outputs": [],
   "source": [
    "conda_env = {\n",
    "    'channels': ['defaults'],\n",
    "    'dependencies': [\n",
    "      'python={}'.format(PYTHON_VERSION),\n",
    "      'pip',\n",
    "      {\n",
    "        'pip': [\n",
    "          'mlflow',\n",
    "          'rpy2'.format(sklearn.__version__),\n",
    "        ],\n",
    "      },\n",
    "    ],\n",
    "    'name': 'sklearn_env'\n",
    "}\n"
   ]
  },
  {
   "cell_type": "code",
   "execution_count": null,
   "metadata": {},
   "outputs": [],
   "source": [
    "mlflow_pyfunc_model_path = \"r_mlflow_pyfunc_svm\"\n",
    "mlflow.pyfunc.save_model(path=mlflow_pyfunc_model_path, python_model=SKLearnWrapper(), conda_env=conda_env, artifacts=artifacts)\n"
   ]
  },
  {
   "cell_type": "code",
   "execution_count": null,
   "metadata": {},
   "outputs": [],
   "source": [
    "# Import the necessary libraries\n",
    "from azure.ai.ml.entities import Model\n",
    "from azure.ai.ml.constants import AssetTypes\n",
    "from azure.ai.ml import MLClient\n",
    "from azure.identity import DefaultAzureCredential\n",
    "\n",
    "# authenticate\n",
    "credential = DefaultAzureCredential()\n",
    "# # Get a handle to the workspace\n",
    "import os \n",
    "\n",
    "# authenticate\n",
    "credential = DefaultAzureCredential()\n",
    "\n",
    "# Get a handle to the workspace\n",
    "ml_client = MLClient(\n",
    "    credential=credential,\n",
    "    subscription_id = \"781b03e7-6eb7-4506-bab8-cf3a0d89b1d4\",\n",
    "    resource_group_name = \"antonslutsky-rg\",\n",
    "    workspace_name = \"gpu-workspace\",\n",
    ")\n",
    "\n"
   ]
  },
  {
   "cell_type": "code",
   "execution_count": null,
   "metadata": {},
   "outputs": [],
   "source": [
    "\n",
    "# Provide the model details, including the\n",
    "# path to the model files, if you've stored them locally.\n",
    "mlflow_model = Model(\n",
    "    path=mlflow_pyfunc_model_path,\n",
    "    type=AssetTypes.MLFLOW_MODEL,\n",
    "    name=mlflow_pyfunc_model_path,\n",
    "    description=\"MLflow Model created from local files.\",\n",
    ")\n",
    "\n",
    "# Register the model\n",
    "ml_client.models.create_or_update(mlflow_model)"
   ]
  },
  {
   "cell_type": "code",
   "execution_count": null,
   "metadata": {},
   "outputs": [],
   "source": [
    "import uuid\n",
    "\n",
    "# Create a unique name for the endpoint\n",
    "online_endpoint_name = \"r-svm-endpoint-\" + str(uuid.uuid4())[:8]\n",
    "\n",
    "from azure.ai.ml.entities import ManagedOnlineEndpoint\n",
    "\n",
    "# define an online endpoint\n",
    "endpoint = ManagedOnlineEndpoint(\n",
    "    name=online_endpoint_name,\n",
    "    description=\"this is an online endpoint\",\n",
    "    auth_mode=\"key\",\n",
    ")"
   ]
  },
  {
   "cell_type": "code",
   "execution_count": 42,
   "metadata": {},
   "outputs": [
    {
     "data": {
      "text/plain": [
       "'r-svm-endpoint-baccbec5'"
      ]
     },
     "execution_count": 42,
     "metadata": {},
     "output_type": "execute_result"
    }
   ],
   "source": [
    "online_endpoint_name"
   ]
  },
  {
   "cell_type": "code",
   "execution_count": null,
   "metadata": {},
   "outputs": [],
   "source": [
    "endpoint = ml_client.online_endpoints.begin_create_or_update(endpoint).result()"
   ]
  },
  {
   "cell_type": "code",
   "execution_count": null,
   "metadata": {},
   "outputs": [],
   "source": [
    "endpoint = ml_client.online_endpoints.get(name=online_endpoint_name)\n",
    "\n",
    "print(\n",
    "    f'Endpoint \"{endpoint.name}\" with provisioning state \"{endpoint.provisioning_state}\" is retrieved'\n",
    ")"
   ]
  },
  {
   "cell_type": "code",
   "execution_count": null,
   "metadata": {},
   "outputs": [],
   "source": [
    "from azure.ai.ml.entities import ManagedOnlineDeployment\n",
    "\n",
    "# Choose the latest version of our registered model for deployment\n",
    "model = ml_client.models.get(name=mlflow_pyfunc_model_path, label=\"latest\")\n",
    "\n",
    "# define an online deployment\n",
    "blue_deployment = ManagedOnlineDeployment(\n",
    "    name=\"blue\",\n",
    "    endpoint_name=online_endpoint_name,\n",
    "    model=model,\n",
    "    instance_type=\"Standard_DS3_v2\",\n",
    "    instance_count=1,\n",
    "    environment={\"image\" : \"23317781110c4faf976319f2fd34b6cf.azurecr.io/azureml/azureml_50f4dcf01428c2ff477c0c35653b323d\"},\n",
    "    environment_variables={\n",
    "        \"MLFLOW_MODEL_FOLDER\": \"model\"\n",
    "        }\n",
    ")"
   ]
  },
  {
   "cell_type": "code",
   "execution_count": null,
   "metadata": {},
   "outputs": [],
   "source": [
    "# create the online deployment\n",
    "blue_deployment = ml_client.online_deployments.begin_create_or_update(\n",
    "    blue_deployment\n",
    ").result()\n",
    "\n",
    "# blue deployment takes 100% traffic\n",
    "# expect the deployment to take approximately 8 to 10 minutes.\n",
    "endpoint.traffic = {\"blue\": 100}\n",
    "ml_client.online_endpoints.begin_create_or_update(endpoint).result()"
   ]
  },
  {
   "cell_type": "code",
   "execution_count": null,
   "metadata": {},
   "outputs": [],
   "source": [
    "%%writefile blue_deployment.yml \n",
    "$schema: https://azuremlschemas.azureedge.net/latest/managedOnlineDeployment.schema.json\n",
    "name: blue\n",
    "endpoint_name: r-svm-endpoint-baccbec5\n",
    "model:\n",
    "  path: ./r_mlflow_pyfunc_svm\n",
    "environment: \n",
    "  image: mcr.microsoft.com/azureml/openmpi4.1.0-ubuntu20.04:latest\n",
    "instance_type: Standard_DS3_v2\n",
    "instance_count: 1"
   ]
  }
 ],
 "metadata": {
  "kernelspec": {
   "display_name": "Python 3",
   "language": "python",
   "name": "python3"
  },
  "language_info": {
   "codemirror_mode": {
    "name": "ipython",
    "version": 3
   },
   "file_extension": ".py",
   "mimetype": "text/x-python",
   "name": "python",
   "nbconvert_exporter": "python",
   "pygments_lexer": "ipython3",
   "version": "3.10.13"
  }
 },
 "nbformat": 4,
 "nbformat_minor": 2
}
