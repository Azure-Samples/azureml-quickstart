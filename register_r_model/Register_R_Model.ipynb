{
 "cells": [
  {
   "cell_type": "markdown",
   "metadata": {},
   "source": [
    "# Using R models in Azure Machine Learning"
   ]
  },
  {
   "cell_type": "markdown",
   "metadata": {},
   "source": [
    "This notebook offers a quick demonstration of importing and registering a trained R model into Azure Machine Learning environment.  This integration facilitates authoring of complex Machine Learning inference pipelines that may include multiple modeling technologies."
   ]
  },
  {
   "cell_type": "markdown",
   "metadata": {},
   "source": [
    "To convert an R model to AML, the following pipeline may be used:\n",
    "- Train R model using R (RStudio)\n",
    "- Save R model with a native R model archive library (e.g.: e1071)\n",
    "- Wrap the R model as MLFlow model using rpy2 Python library\n",
    "- Register the wrapped MLFlow model with your AML workspace"
   ]
  },
  {
   "cell_type": "markdown",
   "metadata": {},
   "source": [
    "## Install R on your computer"
   ]
  },
  {
   "cell_type": "markdown",
   "metadata": {},
   "source": [
    "Please install R on your computer using such repositories as listed on https://www.r-project.org/"
   ]
  },
  {
   "cell_type": "markdown",
   "metadata": {},
   "source": [
    "Please set the R_HOME directory as per your local installation of R"
   ]
  },
  {
   "cell_type": "code",
   "execution_count": null,
   "metadata": {},
   "outputs": [],
   "source": [
    "%env R_HOME=<Your path, example: C:\\Program Files\\R\\R-4.3.3>"
   ]
  },
  {
   "cell_type": "markdown",
   "metadata": {},
   "source": [
    "## Install rpy2"
   ]
  },
  {
   "cell_type": "markdown",
   "metadata": {},
   "source": [
    "Install rpy2 using pip"
   ]
  },
  {
   "cell_type": "code",
   "execution_count": null,
   "metadata": {},
   "outputs": [],
   "source": [
    "%pip install rpy2"
   ]
  },
  {
   "cell_type": "markdown",
   "metadata": {},
   "source": [
    "## Convert R model to MLFlow "
   ]
  },
  {
   "cell_type": "markdown",
   "metadata": {},
   "source": [
    "Define Model wrapper"
   ]
  },
  {
   "cell_type": "code",
   "execution_count": null,
   "metadata": {},
   "outputs": [],
   "source": [
    "# Load training and test datasets\n",
    "from sys import version_info\n",
    "import mlflow.pyfunc\n",
    "import numpy as np\n",
    "from rpy2.robjects.packages import importr\n",
    "import rpy2.robjects as robjects\n",
    "from rpy2.robjects import numpy2ri\n",
    "\n",
    "PYTHON_VERSION = \"{major}.{minor}.{micro}\".format(major=version_info.major,\n",
    "                                                  minor=version_info.minor,\n",
    "                                                  micro=version_info.micro)\n",
    "\n",
    "# Train and save an R model\n",
    "r_model_path = \"./svm_model/artifact\"\n",
    "\n",
    "artifacts = {\n",
    "    \"model_rds_path\" : \"{}.rds\".format(r_model_path),\n",
    "    \"model_dep_path\" : \"{}.dep\".format(r_model_path)\n",
    "}\n",
    "\n",
    "r = robjects.r\n",
    "numpy2ri.activate()\n",
    "\n",
    "# create wrapper\n",
    "class MLFlowWrapper(mlflow.pyfunc.PythonModel):\n",
    "\n",
    "    def load_context(self, context):\n",
    "\n",
    "        self.model = r.readRDS(context.artifacts[\"model_rds_path\"])\n",
    "\n",
    "        with open(context.artifacts[\"model_dep_path\"], \"rt\") as f:\n",
    "            model_dep_list = [importr(dep.strip())\n",
    "                              for dep in f.readlines()\n",
    "                              if dep.strip()!='']\n",
    "\n",
    "        return self\n",
    "        \n",
    "    \n",
    "    def predict(self, model, X):\n",
    "        if self.model is None:\n",
    "            raise Exception(\"There is no Model\")\n",
    "        \n",
    "        if type(X) is not np.ndarray:\n",
    "            X = np.array(X)\n",
    "\n",
    "        return np.array(r.predict(self.model, X))"
   ]
  },
  {
   "cell_type": "markdown",
   "metadata": {},
   "source": [
    "Test your MLFlow wrapper logic:"
   ]
  },
  {
   "cell_type": "code",
   "execution_count": null,
   "metadata": {},
   "outputs": [],
   "source": [
    "class TestContext:\n",
    "    def __init__(self, _artifacts) -> None:\n",
    "        self.artifacts = _artifacts"
   ]
  },
  {
   "cell_type": "code",
   "execution_count": null,
   "metadata": {},
   "outputs": [],
   "source": [
    "test_context = TestContext(artifacts)\n",
    "test_context.artifacts"
   ]
  },
  {
   "cell_type": "code",
   "execution_count": null,
   "metadata": {},
   "outputs": [],
   "source": [
    "wrapped_model = MLFlowWrapper()\n",
    "wrapped_model.load_context(test_context)\n",
    "test_data = [[5.1, 3.5, 1.4, 0.2], [5.9, 3.0, 5.1, 1.8]]\n",
    "wrapped_model.predict(None, # use internal model \n",
    "                      test_data)\n",
    "\n"
   ]
  },
  {
   "cell_type": "markdown",
   "metadata": {},
   "source": [
    "Define model dependencies"
   ]
  },
  {
   "cell_type": "code",
   "execution_count": null,
   "metadata": {},
   "outputs": [],
   "source": [
    "conda_env = {\n",
    "    'channels': ['defaults'],\n",
    "    'dependencies': [\n",
    "      'python={}'.format(PYTHON_VERSION),\n",
    "      'pip',\n",
    "      {\n",
    "        'pip': [\n",
    "          'mlflow',\n",
    "          'rpy2',\n",
    "        ],\n",
    "      },\n",
    "    ],\n",
    "    'name': 'rpy2_env'\n",
    "}\n"
   ]
  },
  {
   "cell_type": "markdown",
   "metadata": {},
   "source": [
    "## Save the wrapped R model in ML Flow format "
   ]
  },
  {
   "cell_type": "code",
   "execution_count": null,
   "metadata": {},
   "outputs": [],
   "source": [
    "mlflow_pyfunc_model_path = \"r_mlflow_pyfunc_rpy2\"\n",
    "mlflow.pyfunc.save_model(path=mlflow_pyfunc_model_path, python_model=MLFlowWrapper(), conda_env=conda_env, artifacts=artifacts)\n"
   ]
  },
  {
   "cell_type": "markdown",
   "metadata": {},
   "source": [
    "## Register the MLFlow model with Azure Machine Learning"
   ]
  },
  {
   "cell_type": "code",
   "execution_count": null,
   "metadata": {},
   "outputs": [],
   "source": [
    "# Import the necessary libraries\n",
    "from azure.ai.ml.entities import Model\n",
    "from azure.ai.ml.constants import AssetTypes\n",
    "from azure.ai.ml import MLClient\n",
    "from azure.identity import DefaultAzureCredential\n",
    "\n",
    "# authenticate\n",
    "credential = DefaultAzureCredential()\n",
    "# # Get a handle to the workspace\n",
    "import os \n",
    "\n",
    "# authenticate\n",
    "credential = DefaultAzureCredential()\n",
    "\n",
    "# Get a handle to the workspace\n",
    "ml_client = MLClient(\n",
    "    credential=credential,\n",
    "    subscription_id = \"781b03e7-6eb7-4506-bab8-cf3a0d89b1d4\",\n",
    "    resource_group_name = \"antonslutsky-rg\",\n",
    "    workspace_name = \"gpu-workspace\",\n",
    ")\n",
    "\n"
   ]
  },
  {
   "cell_type": "markdown",
   "metadata": {},
   "source": [
    "### Register MLFlow model"
   ]
  },
  {
   "cell_type": "code",
   "execution_count": null,
   "metadata": {},
   "outputs": [],
   "source": [
    "\n",
    "# Provide the model details, including the\n",
    "# path to the model files, if you've stored them locally.\n",
    "mlflow_model = Model(\n",
    "    path=mlflow_pyfunc_model_path,\n",
    "    type=AssetTypes.MLFLOW_MODEL,\n",
    "    name=mlflow_pyfunc_model_path,\n",
    "    description=\"MLflow Model created from local files.\",\n",
    ")\n",
    "\n",
    "# Register the model\n",
    "ml_client.models.create_or_update(mlflow_model)"
   ]
  },
  {
   "cell_type": "markdown",
   "metadata": {},
   "source": [
    "## Deploy the registered model as Real-Time endpoint"
   ]
  },
  {
   "cell_type": "markdown",
   "metadata": {},
   "source": [
    "### Create online endpoint"
   ]
  },
  {
   "cell_type": "code",
   "execution_count": null,
   "metadata": {},
   "outputs": [],
   "source": [
    "%%writefile endpoint.yml\n",
    "$schema: https://azuremlschemas.azureedge.net/latest/managedOnlineEndpoint.schema.json\n",
    "name: r-mlflow-pyfunc-rpy2\n",
    "auth_mode: key"
   ]
  },
  {
   "cell_type": "code",
   "execution_count": null,
   "metadata": {},
   "outputs": [],
   "source": [
    "!az ml online-endpoint create --file endpoint.yml"
   ]
  },
  {
   "cell_type": "markdown",
   "metadata": {},
   "source": [
    "## Define scoring script that uses rpy2"
   ]
  },
  {
   "cell_type": "code",
   "execution_count": null,
   "metadata": {},
   "outputs": [],
   "source": [
    "%%writefile ./src/score.py\n",
    "import os\n",
    "import logging\n",
    "import json\n",
    "import numpy as np\n",
    "import rpy2.robjects as robjects\n",
    "from rpy2.robjects import numpy2ri\n",
    "from rpy2.robjects.packages import importr\n",
    "\n",
    "r = robjects.r\n",
    "numpy2ri.activate()\n",
    "\n",
    "\n",
    "class Model(object):\n",
    "\n",
    "    def __init__(self):\n",
    "        self.model = None\n",
    "\n",
    "    def load(self, path):\n",
    "        model_rds_path = \"{}.rds\".format(path)\n",
    "        model_dep_path = \"{}.dep\".format(path)\n",
    "        \n",
    "        utils = importr('utils')\n",
    "        utils.install_packages('e1071')\n",
    "\n",
    "        self.model = r.readRDS(model_rds_path)\n",
    "\n",
    "        with open(model_dep_path, \"rt\") as f:\n",
    "            model_dep_list = [importr(dep.strip())\n",
    "                              for dep in f.readlines()\n",
    "                              if dep.strip()!='']\n",
    "            \n",
    "            print(\"imported packages: \", model_dep_list)\n",
    "\n",
    "        return self\n",
    "\n",
    "    def predict(self, X):\n",
    "    \n",
    "        if self.model is None:\n",
    "            raise Exception(\"There is no Model\")\n",
    "        \n",
    "        if type(X) is not np.ndarray:\n",
    "            X = np.array(X)\n",
    "\n",
    "        pred = r.predict(self.model, X)\n",
    "\n",
    "        return np.array(pred)\n",
    "\n",
    "def init():\n",
    "    global model\n",
    "    model_path = os.path.join(\n",
    "        os.getenv(\"AZUREML_MODEL_DIR\"), \"r_mlflow_pyfunc_rpy2/artifacts/artifact\"\n",
    "    )\n",
    "\n",
    "    model = Model()\n",
    "    model.load(model_path)\n",
    "\n",
    "\n",
    "def run(raw_data):\n",
    "\n",
    "    logging.info(\"model 1: request received\")\n",
    "    data = json.loads(raw_data)[\"data\"]\n",
    "    data = np.array(data)\n",
    "    result = model.predict(data)\n",
    "    logging.info(\"Request processed\")\n",
    "    return result.tolist()\n"
   ]
  },
  {
   "cell_type": "markdown",
   "metadata": {},
   "source": [
    "### Create deployment confirguration"
   ]
  },
  {
   "cell_type": "code",
   "execution_count": null,
   "metadata": {},
   "outputs": [],
   "source": [
    "%%writefile deployment.yml\n",
    "$schema: https://azuremlschemas.azureedge.net/latest/managedOnlineDeployment.schema.json\n",
    "name: red\n",
    "endpoint_name: r-mlflow-pyfunc-rpy2\n",
    "model: azureml:r_mlflow_pyfunc_rpy2@latest\n",
    "environment: azureml:r_environment@latest\n",
    "code_configuration:\n",
    "  code: src\n",
    "  scoring_script: score.py\n",
    "instance_type: Standard_DS3_v2\n",
    "instance_count: 1"
   ]
  },
  {
   "cell_type": "code",
   "execution_count": null,
   "metadata": {},
   "outputs": [],
   "source": [
    "!az ml online-deployment create --file deployment.yml --skip-script-validation --all-traffic"
   ]
  },
  {
   "cell_type": "markdown",
   "metadata": {},
   "source": [
    "=============================================================================================================="
   ]
  }
 ],
 "metadata": {
  "kernelspec": {
   "display_name": "Python 3",
   "language": "python",
   "name": "python3"
  },
  "language_info": {
   "codemirror_mode": {
    "name": "ipython",
    "version": 3
   },
   "file_extension": ".py",
   "mimetype": "text/x-python",
   "name": "python",
   "nbconvert_exporter": "python",
   "pygments_lexer": "ipython3",
   "version": "3.10.13"
  }
 },
 "nbformat": 4,
 "nbformat_minor": 2
}
