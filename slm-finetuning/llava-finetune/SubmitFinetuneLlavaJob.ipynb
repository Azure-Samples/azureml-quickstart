{
 "cells": [
  {
   "cell_type": "code",
   "execution_count": 56,
   "metadata": {},
   "outputs": [
    {
     "name": "stdout",
     "output_type": "stream",
     "text": [
      "Overwriting finetune_llava_job.yml\n"
     ]
    }
   ],
   "source": [
    "%%writefile finetune_llava_job.yml\n",
    "$schema: https://azuremlschemas.azureedge.net/latest/commandJob.schema.json\n",
    "code: ./src\n",
    "command: >-\n",
    "  ./finetune_llava.sh ${{inputs.data_dir}} ${{outputs.out_dir}}; sleep 6000\n",
    "inputs:\n",
    "  data_dir: \n",
    "    type: uri_folder\n",
    "    path: azureml:Multimodal-Fatima_OK@latest\n",
    "outputs:\n",
    "  out_dir: \n",
    "    type: uri_folder\n",
    "    mode: upload\n",
    "environment: azureml:llava_finetuning@latest\n",
    "resources:\n",
    "  instance_count: 1\n",
    "distribution:\n",
    "  type: pytorch \n",
    "  process_count_per_instance: 4\n",
    "services:\n",
    "    my_vs_code:\n",
    "      type: vs_code\n",
    "      nodes: all # For distributed jobs, use the `nodes` property to pick which node you want to enable interactive services on. If `nodes` are not selected, by default, interactive applications are only enabled on the head node. Values are \"all\", or compute node index (for ex. \"0\", \"1\" etc.)\n",
    "    my_jupyter_lab:\n",
    "      type: jupyter_lab\n",
    "      nodes: all\n",
    "compute: azureml:fine-tune-cluster\n",
    "display_name: finetune_llava_job\n",
    "experiment_name: finetune_llava\n",
    "description: Finetune LlaVa"
   ]
  },
  {
   "cell_type": "code",
   "execution_count": 73,
   "metadata": {},
   "outputs": [
    {
     "name": "stdout",
     "output_type": "stream",
     "text": [
      "{\n",
      "  \"code\": \"azureml:/subscriptions/781b03e7-6eb7-4506-bab8-cf3a0d89b1d4/resourceGroups/antonslutsky-rg/providers/Microsoft.MachineLearningServices/workspaces/gpu-workspace/codes/da0cf7de-5e32-4f19-9ea3-6be9717a89e8/versions/1\",\n",
      "  \"command\": \"./finetune_llava.sh ${{inputs.data_dir}} ${{outputs.out_dir}}; sleep 60000\",\n",
      "  \"compute\": \"azureml:fine-tune-cluster\",\n",
      "  \"creation_context\": {\n",
      "    \"created_at\": \"2024-05-27T18:12:50.604280+00:00\",\n",
      "    \"created_by\": \"Anton Slutsky\",\n",
      "    \"created_by_type\": \"User\"\n",
      "  },\n",
      "  \"description\": \"Finetune LlaVa\",\n",
      "  \"display_name\": \"finetune_llava_job\",\n",
      "  \"distribution\": {\n",
      "    \"process_count_per_instance\": 4,\n",
      "    \"type\": \"pytorch\"\n",
      "  },\n",
      "  \"environment\": \"azureml:llava_finetuning:15\",\n",
      "  \"environment_variables\": {},\n",
      "  \"experiment_name\": \"finetune_llava\",\n",
      "  \"id\": \"azureml:/subscriptions/781b03e7-6eb7-4506-bab8-cf3a0d89b1d4/resourceGroups/antonslutsky-rg/providers/Microsoft.MachineLearningServices/workspaces/gpu-workspace/jobs/maroon_tomato_xf9n3kwdzx\",\n",
      "  \"inputs\": {\n",
      "    \"data_dir\": {\n",
      "      \"mode\": \"ro_mount\",\n",
      "      \"path\": \"azureml:Multimodal-Fatima_OK:1\",\n",
      "      \"type\": \"uri_folder\"\n",
      "    }\n",
      "  },\n",
      "  \"name\": \"maroon_tomato_xf9n3kwdzx\",\n",
      "  \"outputs\": {\n",
      "    \"default\": {\n",
      "      \"mode\": \"rw_mount\",\n",
      "      \"path\": \"azureml://datastores/workspaceartifactstore/ExperimentRun/dcid.maroon_tomato_xf9n3kwdzx\",\n",
      "      \"type\": \"uri_folder\"\n",
      "    },\n",
      "    \"out_dir\": {\n",
      "      \"mode\": \"upload\",\n",
      "      \"type\": \"uri_folder\"\n",
      "    }\n",
      "  },\n",
      "  \"parameters\": {},\n",
      "  \"properties\": {\n",
      "    \"ContentSnapshotId\": \"dff10b73-34cb-4083-bf81-616fdc8a7353\",\n",
      "    \"_azureml.ClusterName\": \"fine-tune-cluster\",\n",
      "    \"_azureml.ComputeTargetType\": \"amlctrain\",\n",
      "    \"azureml.git.dirty\": \"True\",\n",
      "    \"mlflow.source.git.branch\": \"feature/spark_job/spark_pipeline\",\n",
      "    \"mlflow.source.git.commit\": \"2c007486cea6eb717abd89628ba6d2b966fa9ea8\",\n",
      "    \"mlflow.source.git.repoURL\": \"https://github.com/Azure-Samples/azureml-quickstart.git\"\n",
      "  },\n",
      "  \"resourceGroup\": \"antonslutsky-rg\",\n",
      "  \"resources\": {\n",
      "    \"instance_count\": 1,\n",
      "    \"properties\": {},\n",
      "    \"shm_size\": \"2g\"\n",
      "  },\n",
      "  \"services\": {\n",
      "    \"Studio\": {\n",
      "      \"endpoint\": \"https://ml.azure.com/runs/maroon_tomato_xf9n3kwdzx?wsid=/subscriptions/781b03e7-6eb7-4506-bab8-cf3a0d89b1d4/resourcegroups/antonslutsky-rg/workspaces/gpu-workspace&tid=16b3c013-d300-468d-ac64-7eda0820b6d3\",\n",
      "      \"type\": \"Studio\"\n",
      "    },\n",
      "    \"Tracking\": {\n",
      "      \"endpoint\": \"azureml://northeurope.api.azureml.ms/mlflow/v1.0/subscriptions/781b03e7-6eb7-4506-bab8-cf3a0d89b1d4/resourceGroups/antonslutsky-rg/providers/Microsoft.MachineLearningServices/workspaces/gpu-workspace?\",\n",
      "      \"type\": \"Tracking\"\n",
      "    },\n",
      "    \"my_jupyter_lab\": {\n",
      "      \"properties\": {},\n",
      "      \"type\": \"jupyter_lab\"\n",
      "    },\n",
      "    \"my_vs_code\": {\n",
      "      \"properties\": {},\n",
      "      \"type\": \"vs_code\"\n",
      "    }\n",
      "  },\n",
      "  \"status\": \"Starting\",\n",
      "  \"tags\": {},\n",
      "  \"type\": \"command\"\n",
      "}\n"
     ]
    },
    {
     "name": "stderr",
     "output_type": "stream",
     "text": [
      "Class AutoDeleteSettingSchema: This is an experimental class, and may change at any time. Please see https://aka.ms/azuremlexperimental for more information.\n",
      "Class AutoDeleteConditionSchema: This is an experimental class, and may change at any time. Please see https://aka.ms/azuremlexperimental for more information.\n",
      "Class BaseAutoDeleteSettingSchema: This is an experimental class, and may change at any time. Please see https://aka.ms/azuremlexperimental for more information.\n",
      "Class IntellectualPropertySchema: This is an experimental class, and may change at any time. Please see https://aka.ms/azuremlexperimental for more information.\n",
      "Class ProtectionLevelSchema: This is an experimental class, and may change at any time. Please see https://aka.ms/azuremlexperimental for more information.\n",
      "Class BaseIntellectualPropertySchema: This is an experimental class, and may change at any time. Please see https://aka.ms/azuremlexperimental for more information.\n",
      "\n",
      "Uploading src (0.0 MBs):   0%|          | 0/2164 [00:00<?, ?it/s]\n",
      "Uploading src (0.0 MBs): 100%|##########| 2164/2164 [00:00<00:00, 30055.64it/s]\n",
      "\n",
      "\n"
     ]
    }
   ],
   "source": [
    "!az ml job create -f ./finetune_llava_job.yml"
   ]
  }
 ],
 "metadata": {
  "kernelspec": {
   "display_name": "Python 3",
   "language": "python",
   "name": "python3"
  },
  "language_info": {
   "codemirror_mode": {
    "name": "ipython",
    "version": 3
   },
   "file_extension": ".py",
   "mimetype": "text/x-python",
   "name": "python",
   "nbconvert_exporter": "python",
   "pygments_lexer": "ipython3",
   "version": "3.7.6"
  }
 },
 "nbformat": 4,
 "nbformat_minor": 2
}
