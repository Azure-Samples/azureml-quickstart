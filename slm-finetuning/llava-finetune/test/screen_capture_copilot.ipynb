{
 "cells": [
  {
   "cell_type": "code",
   "execution_count": null,
   "metadata": {},
   "outputs": [],
   "source": [
    "!pip install pyautogui"
   ]
  },
  {
   "cell_type": "code",
   "execution_count": 1,
   "metadata": {},
   "outputs": [
    {
     "name": "stdout",
     "output_type": "stream",
     "text": [
      "output_dir session_2024-07-28_14-14-42\n"
     ]
    }
   ],
   "source": [
    "import pyautogui\n",
    "\n",
    "def capture_screenshot(out_dir, key):\n",
    "    # Capture the screenshot\n",
    "    screenshot = pyautogui.screenshot()\n",
    "\n",
    "    # Save the screenshot\n",
    "    screenshot.save(f\"{out_dir}/screenshot_{key}.png\")\n",
    "\n",
    "\n",
    "from pynput.keyboard import Key, Listener\n",
    "import logging\n",
    "\n",
    "import datetime\n",
    "\n",
    "output_dir = f\"session_{datetime.datetime.now().strftime('%Y-%m-%d_%H-%M-%S')}\"\n",
    "print(\"output_dir\", output_dir)\n",
    "\n",
    "\n",
    "import os\n",
    "\n",
    "os.makedirs(output_dir)\n",
    "\n",
    "# Set up logging to log keystrokes to a file\n",
    "logging.basicConfig(filename=(f\"{output_dir}/keylog.txt\"), level=logging.DEBUG, format=\" %(asctime)s - %(message)s\")\n",
    "\n",
    "\n",
    "\n",
    "def on_press(key):\n",
    "    logging.info(str(key))\n",
    "    ts = datetime.datetime.now().strftime('%Y-%m-%d_%H-%M-%S.%f')\n",
    "    \n",
    "    screenshot_file = f\"screen_{ts}\"\n",
    "    \n",
    "    capture_screenshot(output_dir, screenshot_file)\n",
    "\n",
    "# Start listening to keystrokes\n",
    "with Listener(on_press=on_press) as listener:\n",
    "    listener.join()"
   ]
  }
 ],
 "metadata": {
  "kernelspec": {
   "display_name": "many_models",
   "language": "python",
   "name": "python3"
  },
  "language_info": {
   "codemirror_mode": {
    "name": "ipython",
    "version": 3
   },
   "file_extension": ".py",
   "mimetype": "text/x-python",
   "name": "python",
   "nbconvert_exporter": "python",
   "pygments_lexer": "ipython3",
   "version": "3.7.6"
  }
 },
 "nbformat": 4,
 "nbformat_minor": 2
}
