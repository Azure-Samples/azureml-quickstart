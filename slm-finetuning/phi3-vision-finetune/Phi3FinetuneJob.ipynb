{
 "cells": [
  {
   "cell_type": "code",
   "execution_count": 9,
   "metadata": {},
   "outputs": [
    {
     "name": "stdout",
     "output_type": "stream",
     "text": [
      "Overwriting finetune_phi3_job.yaml\n"
     ]
    }
   ],
   "source": [
    "%%writefile finetune_phi3_job.yaml\n",
    "$schema: https://azuremlschemas.azureedge.net/latest/commandJob.schema.json\n",
    "code: ./src\n",
    "\n",
    "command: >- \n",
    "  echo \"python finetune_phi3.py ${{inputs.data_dir}} ${{outputs.out_dir}}\"; sleep 60000\n",
    "inputs:\n",
    "  data_dir: \n",
    "    type: uri_folder\n",
    "    #mode: ro_mount\n",
    "    #path: azureml:burbery_data@latest\n",
    "    path: azureml:Sujet-Finance-Vision-10k@latest\n",
    "outputs:\n",
    "  out_dir: \n",
    "    type: custom_model\n",
    "    mode: upload\n",
    "environment: azureml:llava_finetuning:16\n",
    "environment_variables:\n",
    "    WANDB_MODE: disabled\n",
    "resources:\n",
    "  instance_count: 1\n",
    "distribution:\n",
    "  type: pytorch \n",
    "  process_count_per_instance: 1\n",
    "services:\n",
    "    my_vs_code:\n",
    "      type: vs_code\n",
    "      nodes: all # For distributed jobs, use the `nodes` property to pick which node you want to enable interactive services on. If `nodes` are not selected, by default, interactive applications are only enabled on the head node. Values are \"all\", or compute node index (for ex. \"0\", \"1\" etc.)\n",
    "    my_jupyter_lab:\n",
    "      type: jupyter_lab\n",
    "      nodes: all\n",
    "#compute: azureml:fine-tune-cluster\n",
    "compute: azureml:a100-low-priority-france\n",
    "display_name: finetune_phi3_vision_job_5\n",
    "#name: finetune_phi3_vision_job\n",
    "experiment_name: finetune_phi3_vision\n",
    "description: Finetune Phi3 Vision\n"
   ]
  },
  {
   "cell_type": "code",
   "execution_count": 10,
   "metadata": {},
   "outputs": [
    {
     "name": "stdout",
     "output_type": "stream",
     "text": [
      "{\n",
      "  \"code\": \"azureml:/subscriptions/781b03e7-6eb7-4506-bab8-cf3a0d89b1d4/resourceGroups/antonslutsky-rg/providers/Microsoft.MachineLearningServices/workspaces/gpu-workspace/codes/96cc4502-0b66-4371-bcac-37f0da9e105e/versions/1\",\n",
      "  \"command\": \"echo \\\"python finetune_phi3.py ${{inputs.data_dir}} ${{outputs.out_dir}}\\\"; sleep 60000\",\n",
      "  \"compute\": \"azureml:a100-low-priority-france\",\n",
      "  \"creation_context\": {\n",
      "    \"created_at\": \"2024-06-12T13:46:45.126536+00:00\",\n",
      "    \"created_by\": \"Anton Slutsky\",\n",
      "    \"created_by_type\": \"User\"\n",
      "  },\n",
      "  \"description\": \"Finetune Phi3 Vision\",\n",
      "  \"display_name\": \"finetune_phi3_vision_job_5\",\n",
      "  \"distribution\": {\n",
      "    \"process_count_per_instance\": 1,\n",
      "    \"type\": \"pytorch\"\n",
      "  },\n",
      "  \"environment\": \"azureml:llava_finetuning:16\",\n",
      "  \"environment_variables\": {\n",
      "    \"WANDB_MODE\": \"disabled\"\n",
      "  },\n",
      "  \"experiment_name\": \"finetune_phi3_vision\",\n",
      "  \"id\": \"azureml:/subscriptions/781b03e7-6eb7-4506-bab8-cf3a0d89b1d4/resourceGroups/antonslutsky-rg/providers/Microsoft.MachineLearningServices/workspaces/gpu-workspace/jobs/sharp_skin_fgt186c418\",\n",
      "  \"inputs\": {\n",
      "    \"data_dir\": {\n",
      "      \"mode\": \"ro_mount\",\n",
      "      \"path\": \"azureml:Sujet-Finance-Vision-10k:1\",\n",
      "      \"type\": \"uri_folder\"\n",
      "    }\n",
      "  },\n",
      "  \"name\": \"sharp_skin_fgt186c418\",\n",
      "  \"outputs\": {\n",
      "    \"default\": {\n",
      "      \"mode\": \"rw_mount\",\n",
      "      \"path\": \"azureml://datastores/workspaceartifactstore/ExperimentRun/dcid.sharp_skin_fgt186c418\",\n",
      "      \"type\": \"uri_folder\"\n",
      "    },\n",
      "    \"out_dir\": {\n",
      "      \"mode\": \"upload\",\n",
      "      \"type\": \"custom_model\"\n",
      "    }\n",
      "  },\n",
      "  \"parameters\": {},\n",
      "  \"properties\": {\n",
      "    \"ContentSnapshotId\": \"cf4a318a-a66b-4f1c-927d-1af8f9d6d072\",\n",
      "    \"_azureml.ClusterName\": \"a100-low-priority-france\",\n",
      "    \"_azureml.ComputeTargetType\": \"amlctrain\",\n",
      "    \"azureml.git.dirty\": \"True\",\n",
      "    \"mlflow.source.git.branch\": \"slm_finetuning/phi3_fin\",\n",
      "    \"mlflow.source.git.commit\": \"090f69e278f9896f4616f138fd3692a9e0d99bb9\",\n",
      "    \"mlflow.source.git.repoURL\": \"https://github.com/Azure-Samples/azureml-quickstart.git\"\n",
      "  },\n",
      "  \"resourceGroup\": \"antonslutsky-rg\",\n",
      "  \"resources\": {\n",
      "    \"instance_count\": 1,\n",
      "    \"properties\": {},\n",
      "    \"shm_size\": \"2g\"\n",
      "  },\n",
      "  \"services\": {\n",
      "    \"Studio\": {\n",
      "      \"endpoint\": \"https://ml.azure.com/runs/sharp_skin_fgt186c418?wsid=/subscriptions/781b03e7-6eb7-4506-bab8-cf3a0d89b1d4/resourcegroups/antonslutsky-rg/workspaces/gpu-workspace&tid=16b3c013-d300-468d-ac64-7eda0820b6d3\",\n",
      "      \"type\": \"Studio\"\n",
      "    },\n",
      "    \"Tracking\": {\n",
      "      \"endpoint\": \"azureml://northeurope.api.azureml.ms/mlflow/v1.0/subscriptions/781b03e7-6eb7-4506-bab8-cf3a0d89b1d4/resourceGroups/antonslutsky-rg/providers/Microsoft.MachineLearningServices/workspaces/gpu-workspace?\",\n",
      "      \"type\": \"Tracking\"\n",
      "    },\n",
      "    \"my_jupyter_lab\": {\n",
      "      \"properties\": {},\n",
      "      \"type\": \"jupyter_lab\"\n",
      "    },\n",
      "    \"my_vs_code\": {\n",
      "      \"properties\": {},\n",
      "      \"type\": \"vs_code\"\n",
      "    }\n",
      "  },\n",
      "  \"status\": \"Starting\",\n",
      "  \"tags\": {},\n",
      "  \"type\": \"command\"\n",
      "}\n"
     ]
    },
    {
     "name": "stderr",
     "output_type": "stream",
     "text": [
      "Class AutoDeleteSettingSchema: This is an experimental class, and may change at any time. Please see https://aka.ms/azuremlexperimental for more information.\n",
      "Class AutoDeleteConditionSchema: This is an experimental class, and may change at any time. Please see https://aka.ms/azuremlexperimental for more information.\n",
      "Class BaseAutoDeleteSettingSchema: This is an experimental class, and may change at any time. Please see https://aka.ms/azuremlexperimental for more information.\n",
      "Class IntellectualPropertySchema: This is an experimental class, and may change at any time. Please see https://aka.ms/azuremlexperimental for more information.\n",
      "Class ProtectionLevelSchema: This is an experimental class, and may change at any time. Please see https://aka.ms/azuremlexperimental for more information.\n",
      "Class BaseIntellectualPropertySchema: This is an experimental class, and may change at any time. Please see https://aka.ms/azuremlexperimental for more information.\n"
     ]
    }
   ],
   "source": [
    "!az ml job create -f finetune_phi3_job.yaml"
   ]
  },
  {
   "cell_type": "code",
   "execution_count": null,
   "metadata": {},
   "outputs": [],
   "source": [
    "%%writefile endpoint_phi3_env_jo.yaml\n",
    "$schema: https://azuremlschemas.azureedge.net/latest/commandJob.schema.json\n",
    "command: >- \n",
    "  echo \"Model Dir: ${{inputs.model_dir}}\"; sleep 6000\n",
    "inputs:\n",
    "  model_dir: \n",
    "    type: custom_model\n",
    "    path: azureml:finetuned_phi3_vision@latest\n",
    "environment: azureml:llava_finetuning_inference:2\n",
    "environment_variables:\n",
    "    WANDB_MODE: disabled\n",
    "resources:\n",
    "  instance_count: 1\n",
    "distribution:\n",
    "  type: pytorch \n",
    "  process_count_per_instance: 1\n",
    "services:\n",
    "    my_vs_code:\n",
    "      type: vs_code\n",
    "      nodes: all # For distributed jobs, use the `nodes` property to pick which node you want to enable interactive services on. If `nodes` are not selected, by default, interactive applications are only enabled on the head node. Values are \"all\", or compute node index (for ex. \"0\", \"1\" etc.)\n",
    "    my_jupyter_lab:\n",
    "      type: jupyter_lab\n",
    "      nodes: all\n",
    "compute: azureml:fine-tune-cluster\n",
    "#compute: azureml:a100-low-priority\n",
    "display_name: endpoint_phi3_env_job\n",
    "#name: endpoint_phi3_env_job\n",
    "experiment_name: finetune_phi3_vision\n",
    "description: Endpoint Phi3 Vision\n"
   ]
  },
  {
   "cell_type": "code",
   "execution_count": null,
   "metadata": {},
   "outputs": [],
   "source": [
    "!az ml job create -f endpoint_phi3_env_jo.yaml"
   ]
  },
  {
   "cell_type": "code",
   "execution_count": null,
   "metadata": {},
   "outputs": [],
   "source": [
    "%%writefile ./endpoint/endpoint.yaml\n",
    "$schema: https://azuremlschemas.azureedge.net/latest/managedOnlineEndpoint.schema.json\n",
    "name: finetunedPhi3Endpoint\n",
    "auth_mode: key"
   ]
  },
  {
   "cell_type": "code",
   "execution_count": null,
   "metadata": {},
   "outputs": [],
   "source": [
    "!az ml online-endpoint create --file ./endpoint/endpoint.yaml"
   ]
  },
  {
   "cell_type": "code",
   "execution_count": null,
   "metadata": {},
   "outputs": [],
   "source": [
    "%%writefile ./endpoint/deployment.yaml\n",
    "$schema: https://azuremlschemas.azureedge.net/latest/managedOnlineDeployment.schema.json\n",
    "name: blue\n",
    "endpoint_name: finetunedPhi3Endpoint\n",
    "model: azureml:finetuned_phi3_vision:1\n",
    "code_configuration:\n",
    "  code: .\n",
    "  scoring_script: score.py\n",
    "environment: azureml:llava_finetuning_inference:2\n",
    "instance_type: Standard_NC12s_v3\n",
    "instance_count: 1"
   ]
  },
  {
   "cell_type": "code",
   "execution_count": null,
   "metadata": {},
   "outputs": [],
   "source": [
    "!az ml online-deployment create --all-traffic --file ./endpoint/deployment.yaml"
   ]
  }
 ],
 "metadata": {
  "kernelspec": {
   "display_name": "many_models",
   "language": "python",
   "name": "python3"
  },
  "language_info": {
   "codemirror_mode": {
    "name": "ipython",
    "version": 3
   },
   "file_extension": ".py",
   "mimetype": "text/x-python",
   "name": "python",
   "nbconvert_exporter": "python",
   "pygments_lexer": "ipython3",
   "version": "3.7.6"
  }
 },
 "nbformat": 4,
 "nbformat_minor": 2
}
