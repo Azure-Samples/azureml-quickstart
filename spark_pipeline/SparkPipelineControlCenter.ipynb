{
 "cells": [
  {
   "cell_type": "code",
   "execution_count": null,
   "metadata": {},
   "outputs": [],
   "source": [
    "!az login --tenant 16b3c013-d300-468d-ac64-7eda0820b6d3"
   ]
  },
  {
   "cell_type": "code",
   "execution_count": null,
   "metadata": {},
   "outputs": [],
   "source": [
    "!az ml component create --file ./jobs/extract_frames_job.yml"
   ]
  },
  {
   "cell_type": "code",
   "execution_count": null,
   "metadata": {},
   "outputs": [],
   "source": [
    "!az ml job create --file ./jobs/extract_frames_job.yml"
   ]
  },
  {
   "cell_type": "code",
   "execution_count": null,
   "metadata": {},
   "outputs": [],
   "source": [
    "!az ml job create --file ./jobs/convert_to_ascii_art_spark_job.yml"
   ]
  },
  {
   "cell_type": "code",
   "execution_count": null,
   "metadata": {},
   "outputs": [],
   "source": [
    "!az ml component create --file ./jobs/convert_to_ascii_art_spark_job.yml"
   ]
  },
  {
   "cell_type": "code",
   "execution_count": null,
   "metadata": {},
   "outputs": [],
   "source": [
    "!az ml component create --file ./jobs/generate_finetune_training_data_job.yml"
   ]
  },
  {
   "cell_type": "code",
   "execution_count": null,
   "metadata": {},
   "outputs": [],
   "source": [
    "!az ml component create --file ./jobs/data_preprocess_job.yml"
   ]
  },
  {
   "cell_type": "code",
   "execution_count": 13,
   "metadata": {},
   "outputs": [
    {
     "name": "stdout",
     "output_type": "stream",
     "text": [
      "{\n",
      "  \"$schema\": \"https://azuremlschemas.azureedge.net/latest/commandComponent.schema.json\",\n",
      "  \"code\": \"azureml:/subscriptions/781b03e7-6eb7-4506-bab8-cf3a0d89b1d4/resourceGroups/antonslutsky-rg/providers/Microsoft.MachineLearningServices/workspaces/gpu-workspace/codes/94bfcbc7-bc44-45d2-a41b-f48eb556a7a2/versions/1\",\n",
      "  \"command\": \"python class_preprocess.py --task_name SingleLabelClassification --sentence1_key '${{inputs.sentence1_key}}' $[[--sentence2_key '${{inputs.sentence2_key}}']] --label_key '${{inputs.label_key}}' $[[--batch_size '${{inputs.batch_size}}']] $[[--pad_to_max_length '${{inputs.pad_to_max_length}}']] $[[--max_seq_length '${{inputs.max_seq_length}}']] $[[--train_file_path '${{inputs.train_file_path}}']] $[[--validation_file_path '${{inputs.validation_file_path}}']] $[[--test_file_path '${{inputs.test_file_path}}']] $[[--train_mltable_path '${{inputs.train_mltable_path}}']] $[[--validation_mltable_path '${{inputs.validation_mltable_path}}']] $[[--test_mltable_path '${{inputs.test_mltable_path}}']] --model_selector_output '${{inputs.model_selector_output}}' --output_dir '${{outputs.output_dir}}'\",\n",
      "  \"creation_context\": {\n",
      "    \"created_at\": \"2024-04-04T16:42:25.781793+00:00\",\n",
      "    \"created_by\": \"Anton Slutsky\",\n",
      "    \"created_by_type\": \"User\",\n",
      "    \"last_modified_at\": \"2024-04-04T16:42:25.883046+00:00\",\n",
      "    \"last_modified_by\": \"Anton Slutsky\",\n",
      "    \"last_modified_by_type\": \"User\"\n",
      "  },\n",
      "  \"description\": \"Component to preprocess data for single label classification task. See [docs](https://aka.ms/azureml/components/text_classification_datapreprocess) to learn more.\",\n",
      "  \"display_name\": \"Spark Text Classification DataPreProcess\",\n",
      "  \"environment\": \"azureml://registries/azureml/environments/acft-hf-nlp-gpu/versions/46\",\n",
      "  \"id\": \"azureml:/subscriptions/781b03e7-6eb7-4506-bab8-cf3a0d89b1d4/resourceGroups/antonslutsky-rg/providers/Microsoft.MachineLearningServices/workspaces/gpu-workspace/components/spark_text_classification_datapreprocess/versions/2024-04-04-16-42-23-1878287\",\n",
      "  \"inputs\": {\n",
      "    \"batch_size\": {\n",
      "      \"default\": \"1000\",\n",
      "      \"description\": \"Number of examples to batch before calling the tokenization function\",\n",
      "      \"min\": \"1\",\n",
      "      \"optional\": true,\n",
      "      \"type\": \"integer\"\n",
      "    },\n",
      "    \"label_key\": {\n",
      "      \"description\": \"label key in each example line\",\n",
      "      \"optional\": false,\n",
      "      \"type\": \"string\"\n",
      "    },\n",
      "    \"max_seq_length\": {\n",
      "      \"default\": \"-1\",\n",
      "      \"description\": \"Controls the maximum length to use when pad_to_max_length parameter is set to `true`. Default is -1 which means the padding is done up to the model's max length. Else will be padded to `max_seq_length`.\",\n",
      "      \"optional\": true,\n",
      "      \"type\": \"integer\"\n",
      "    },\n",
      "    \"model_selector_output\": {\n",
      "      \"description\": \"output folder of model selector containing model metadata like config, checkpoints, tokenizer config\",\n",
      "      \"optional\": false,\n",
      "      \"type\": \"uri_folder\"\n",
      "    },\n",
      "    \"pad_to_max_length\": {\n",
      "      \"default\": \"False\",\n",
      "      \"description\": \"If set to True, the returned sequences will be padded according to the model's padding side and padding index, up to their `max_seq_length`. If no `max_seq_length` is specified, the padding is done up to the model's max length.\",\n",
      "      \"enum\": [\n",
      "        \"true\",\n",
      "        \"false\"\n",
      "      ],\n",
      "      \"optional\": true,\n",
      "      \"type\": \"string\"\n",
      "    },\n",
      "    \"sentence1_key\": {\n",
      "      \"description\": \"Key for `sentence1_key` in each example line\",\n",
      "      \"optional\": false,\n",
      "      \"type\": \"string\"\n",
      "    },\n",
      "    \"sentence2_key\": {\n",
      "      \"description\": \"Key for `sentence2_key` in each example line\",\n",
      "      \"optional\": true,\n",
      "      \"type\": \"string\"\n",
      "    },\n",
      "    \"task_name\": {\n",
      "      \"default\": \"SingleLabelClassification\",\n",
      "      \"description\": \"Text Classification task type\",\n",
      "      \"enum\": [\n",
      "        \"SingleLabelClassification\"\n",
      "      ],\n",
      "      \"optional\": false,\n",
      "      \"type\": \"string\"\n",
      "    },\n",
      "    \"test_file_path\": {\n",
      "      \"description\": \"Path to the registered test data asset. The supported data formats are `jsonl`, `json`, `csv`, `tsv` and `parquet`.\",\n",
      "      \"optional\": true,\n",
      "      \"type\": \"uri_file\"\n",
      "    },\n",
      "    \"test_mltable_path\": {\n",
      "      \"description\": \"Path to the registered test data asset in `mltable` format.\",\n",
      "      \"optional\": true,\n",
      "      \"type\": \"mltable\"\n",
      "    },\n",
      "    \"train_file_path\": {\n",
      "      \"description\": \"Path to the registered training data asset. The supported data formats are `jsonl`, `json`, `csv`, `tsv` and `parquet`.\",\n",
      "      \"optional\": true,\n",
      "      \"type\": \"uri_file\"\n",
      "    },\n",
      "    \"train_mltable_path\": {\n",
      "      \"description\": \"Path to the registered training data asset in `mltable` format.\",\n",
      "      \"optional\": true,\n",
      "      \"type\": \"mltable\"\n",
      "    },\n",
      "    \"validation_file_path\": {\n",
      "      \"description\": \"Path to the registered validation data asset. The supported data formats are `jsonl`, `json`, `csv`, `tsv` and `parquet`.\",\n",
      "      \"optional\": true,\n",
      "      \"type\": \"uri_file\"\n",
      "    },\n",
      "    \"validation_mltable_path\": {\n",
      "      \"description\": \"Path to the registered validation data asset in `mltable` format.\",\n",
      "      \"optional\": true,\n",
      "      \"type\": \"mltable\"\n",
      "    }\n",
      "  },\n",
      "  \"is_deterministic\": true,\n",
      "  \"name\": \"spark_text_classification_datapreprocess\",\n",
      "  \"outputs\": {\n",
      "    \"output_dir\": {\n",
      "      \"description\": \"The folder contains the tokenized output of the train, validation and test data along with the tokenizer files used to tokenize the data\",\n",
      "      \"type\": \"uri_folder\"\n",
      "    }\n",
      "  },\n",
      "  \"resourceGroup\": \"antonslutsky-rg\",\n",
      "  \"resources\": {\n",
      "    \"instance_count\": 1\n",
      "  },\n",
      "  \"type\": \"command\",\n",
      "  \"version\": \"2024-04-04-16-42-23-1878287\"\n",
      "}\n"
     ]
    },
    {
     "name": "stderr",
     "output_type": "stream",
     "text": [
      "\n",
      "Uploading src (0.04 MBs):   0%|          | 0/42313 [00:00<?, ?it/s]\n",
      "Uploading src (0.04 MBs):   5%|4         | 1930/42313 [00:00<00:06, 5855.89it/s]\n",
      "Uploading src (0.04 MBs): 100%|##########| 42313/42313 [00:00<00:00, 102351.66it/s]\n",
      "\n",
      "\n"
     ]
    }
   ],
   "source": [
    "!az ml component create --file ./jobs/data_preprocess_classification_job.yml"
   ]
  },
  {
   "cell_type": "code",
   "execution_count": null,
   "metadata": {},
   "outputs": [],
   "source": [
    "import pandas as pd\n",
    "data = open(\"C:/Users/antonslutsky/Downloads/Downloads/part-00000-737fa23a-5cfc-4164-96b9-21b4593c5605-c000.json\").read()\n",
    "data"
   ]
  }
 ],
 "metadata": {
  "kernelspec": {
   "display_name": "Python 3",
   "language": "python",
   "name": "python3"
  },
  "language_info": {
   "codemirror_mode": {
    "name": "ipython",
    "version": 3
   },
   "file_extension": ".py",
   "mimetype": "text/x-python",
   "name": "python",
   "nbconvert_exporter": "python",
   "pygments_lexer": "ipython3",
   "version": "3.10.13"
  }
 },
 "nbformat": 4,
 "nbformat_minor": 2
}
